{
 "cells": [
  {
   "cell_type": "code",
   "execution_count": 3,
   "metadata": {},
   "outputs": [],
   "source": [
    "import face_recognition\n"
   ]
  },
  {
   "cell_type": "code",
   "execution_count": 4,
   "metadata": {},
   "outputs": [],
   "source": [
    "import os\n",
    "import cv2"
   ]
  },
  {
   "cell_type": "code",
   "execution_count": 5,
   "metadata": {},
   "outputs": [],
   "source": [
    "KNOWN_FACES_DIR = 'known_faces'\n",
    "UNKNOWN_FACES_DIR = 'unknown_faces'\n",
    "\n",
    "# Tolerance : lower the tolerance lesser is the chance of false positives Default 0.6\n",
    "TOLERANCE = 0.6\n",
    "FRAME_THICKNESS = 2\n",
    "FONT_THICKNESS = 1\n",
    "MODEL = 'cnn'"
   ]
  },
  {
   "cell_type": "code",
   "execution_count": null,
   "metadata": {},
   "outputs": [],
   "source": []
  },
  {
   "cell_type": "code",
   "execution_count": 6,
   "metadata": {},
   "outputs": [
    {
     "name": "stdout",
     "output_type": "stream",
     "text": [
      "Starting to Load the Known Faces\n"
     ]
    }
   ],
   "source": [
    "print('Starting to Load the Known Faces')"
   ]
  },
  {
   "cell_type": "code",
   "execution_count": 7,
   "metadata": {},
   "outputs": [],
   "source": [
    "known_faces = []\n",
    "known_names =[]"
   ]
  },
  {
   "cell_type": "code",
   "execution_count": 8,
   "metadata": {},
   "outputs": [],
   "source": [
    "for name in os.listdir(KNOWN_FACES_DIR):\n",
    "    for filename in os.listdir(f\"{KNOWN_FACES_DIR}/{name}\"):\n",
    "        image = face_recognition.load_image_file(f\"{KNOWN_FACES_DIR}/{name}/{filename}\")\n",
    "        encoding = face_recognition.face_encodings(image)[0]\n",
    "        known_faces.append(encoding)\n",
    "        known_names.append(name)"
   ]
  },
  {
   "cell_type": "code",
   "execution_count": 9,
   "metadata": {},
   "outputs": [
    {
     "name": "stdout",
     "output_type": "stream",
     "text": [
      "Processing the unknown images\n"
     ]
    }
   ],
   "source": [
    "print('Processing the unknown images')"
   ]
  },
  {
   "cell_type": "code",
   "execution_count": null,
   "metadata": {},
   "outputs": [
    {
     "name": "stdout",
     "output_type": "stream",
     "text": [
      "MarkT1.jpg\n",
      "Match FOUND : Mark\n"
     ]
    }
   ],
   "source": [
    "for filename in os.listdir(UNKNOWN_FACES_DIR):\n",
    "    print(filename)\n",
    "    image = face_recognition.load_image_file(f\"{UNKNOWN_FACES_DIR}/{filename}\")\n",
    "    loc = face_recognition.face_locations(image,model=MODEL)\n",
    "    encoding = face_recognition.face_encodings(image,loc)\n",
    "    \n",
    "    image = cv2.cvtColor(image,cv2.COLOR_RGB2BGR)\n",
    "    \n",
    "    for face_encoding,face_location in zip(encoding,loc):\n",
    "        results = face_recognition.compare_faces(known_faces,face_encoding,tolerance=TOLERANCE)\n",
    "        match = None\n",
    "        if True in results:\n",
    "            match = known_names[results.index(True)]\n",
    "            print(f\"Match FOUND : {match}\")\n",
    "            \n",
    "            \n",
    "            top_left = (face_location[3],face_location[0])\n",
    "            bottom_right = (face_location[1],face_location[2])\n",
    "            \n",
    "            color = [255,0,0]\n",
    "            \n",
    "            cv2.rectangle(image,top_left,bottom_right,color,FRAME_THICKNESS)\n",
    "            \n",
    "            top_left = (face_location[3],face_location[2])\n",
    "            bottom_right = (face_location[1],face_location[2]+22)\n",
    "            \n",
    "            cv2.rectangle(image,top_left,bottom_right,color,cv2.FILLED)\n",
    "            cv2.putText(image,match,(face_location[3]+10,face_location[2]+15),cv2.FONT_HERSHEY_SIMPLEX,0.5,(200,200,200),FONT_THICKNESS)\n",
    "            \n",
    "    cv2.imshow(filename,image)\n",
    "    cv2.waitKey(10000)\n",
    "\n",
    "            \n",
    "            \n",
    "    \n",
    "    \n",
    "    "
   ]
  },
  {
   "cell_type": "code",
   "execution_count": null,
   "metadata": {},
   "outputs": [],
   "source": []
  },
  {
   "cell_type": "code",
   "execution_count": null,
   "metadata": {},
   "outputs": [],
   "source": []
  }
 ],
 "metadata": {
  "kernelspec": {
   "display_name": "Python 3",
   "language": "python",
   "name": "python3"
  },
  "language_info": {
   "codemirror_mode": {
    "name": "ipython",
    "version": 3
   },
   "file_extension": ".py",
   "mimetype": "text/x-python",
   "name": "python",
   "nbconvert_exporter": "python",
   "pygments_lexer": "ipython3",
   "version": "3.6.9"
  }
 },
 "nbformat": 4,
 "nbformat_minor": 4
}
