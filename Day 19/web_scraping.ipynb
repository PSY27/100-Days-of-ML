{
 "cells": [
  {
   "cell_type": "code",
   "execution_count": 1,
   "metadata": {},
   "outputs": [],
   "source": [
    "import requests"
   ]
  },
  {
   "cell_type": "code",
   "execution_count": 2,
   "metadata": {},
   "outputs": [],
   "source": [
    "url = 'https://www.skysports.com/premier-league-table/2019'"
   ]
  },
  {
   "cell_type": "code",
   "execution_count": 3,
   "metadata": {},
   "outputs": [
    {
     "name": "stdout",
     "output_type": "stream",
     "text": [
      "200\n"
     ]
    }
   ],
   "source": [
    "page = requests.get(url)\n",
    "print(page.status_code)"
   ]
  },
  {
   "cell_type": "code",
   "execution_count": 5,
   "metadata": {},
   "outputs": [],
   "source": [
    "# print(page.text)"
   ]
  },
  {
   "cell_type": "code",
   "execution_count": 6,
   "metadata": {},
   "outputs": [],
   "source": [
    "from bs4 import BeautifulSoup"
   ]
  },
  {
   "cell_type": "code",
   "execution_count": 8,
   "metadata": {},
   "outputs": [],
   "source": [
    "soup = BeautifulSoup(page.text,'html.parser')\n",
    "# print(soup.prettify)"
   ]
  },
  {
   "cell_type": "code",
   "execution_count": 12,
   "metadata": {},
   "outputs": [],
   "source": [
    "# print(soup.find('a'))"
   ]
  },
  {
   "cell_type": "code",
   "execution_count": 13,
   "metadata": {},
   "outputs": [],
   "source": [
    "# print(soup.find_all('a'))"
   ]
  },
  {
   "cell_type": "code",
   "execution_count": 14,
   "metadata": {},
   "outputs": [
    {
     "data": {
      "text/plain": [
       "<a class=\"site-header__col site-header__col4 site-header__nav-button-hit-area\" data-role=\"open-left-hand-nav\" href=\"#no-js-nav\" tabindex=\"1\">\n",
       "<svg class=\"site-header__nav-button\" version=\"1.1\" viewbox=\"0 0 2048 2048\" xml:space=\"preserve\" xmlns=\"http://www.w3.org/2000/svg\" xmlns:xlink=\"http://www.w3.org/1999/xlink\">\n",
       "<rect height=\"256\" width=\"2048\" y=\"384\"></rect>\n",
       "<rect height=\"256\" width=\"2048\" y=\"896\"></rect>\n",
       "<rect height=\"256\" width=\"2048\" y=\"1408\"></rect>\n",
       "</svg>\n",
       "</a>"
      ]
     },
     "execution_count": 14,
     "metadata": {},
     "output_type": "execute_result"
    }
   ],
   "source": [
    "soup.find_all('a')[1]"
   ]
  },
  {
   "cell_type": "code",
   "execution_count": 26,
   "metadata": {},
   "outputs": [],
   "source": [
    "league = soup.find('table',class_='standing-table__table')\n",
    "# league\n",
    "league_table = league.find_all('tbody')\n",
    "# league_table"
   ]
  },
  {
   "cell_type": "code",
   "execution_count": 42,
   "metadata": {},
   "outputs": [
    {
     "name": "stdout",
     "output_type": "stream",
     "text": [
      "Liverpool 99\n",
      "Manchester City 81\n",
      "Manchester United 66\n",
      "Chelsea 66\n",
      "Leicester City 62\n",
      "Tottenham Hotspur 59\n",
      "Wolverhampton Wanderers 59\n",
      "Arsenal 56\n",
      "Sheffield United 54\n",
      "Burnley 54\n",
      "Southampton 52\n",
      "Everton 49\n",
      "Newcastle United 44\n",
      "Crystal Palace 43\n",
      "Brighton and Hove Albion 41\n",
      "West Ham United 39\n",
      "Aston Villa 35\n",
      "Bournemouth 34\n",
      "Watford 34\n",
      "Norwich City 21\n"
     ]
    }
   ],
   "source": [
    "for team in league_table:\n",
    "    rows = team.find_all('tr')\n",
    "    for row in rows:\n",
    "        team_names = row.find('td',class_ = 'standing-table__cell standing-table__cell--name').text.strip()\n",
    "        team_points = row.find_all('td',class_ = 'standing-table__cell')[9].text.strip()\n",
    "        league_dict ={'Team':team_names,'Points':team_points}\n",
    "        pl_2019.append(league_dict)\n",
    "        \n",
    "        \n",
    "        print(team_names,team_points)"
   ]
  },
  {
   "cell_type": "code",
   "execution_count": 38,
   "metadata": {},
   "outputs": [],
   "source": [
    "import pandas as pd"
   ]
  },
  {
   "cell_type": "code",
   "execution_count": 41,
   "metadata": {},
   "outputs": [],
   "source": [
    "pl_2019=[]"
   ]
  },
  {
   "cell_type": "code",
   "execution_count": 43,
   "metadata": {},
   "outputs": [
    {
     "data": {
      "text/plain": [
       "[{'Team': 'Liverpool', 'Points': '99'},\n",
       " {'Team': 'Manchester City', 'Points': '81'},\n",
       " {'Team': 'Manchester United', 'Points': '66'},\n",
       " {'Team': 'Chelsea', 'Points': '66'},\n",
       " {'Team': 'Leicester City', 'Points': '62'},\n",
       " {'Team': 'Tottenham Hotspur', 'Points': '59'},\n",
       " {'Team': 'Wolverhampton Wanderers', 'Points': '59'},\n",
       " {'Team': 'Arsenal', 'Points': '56'},\n",
       " {'Team': 'Sheffield United', 'Points': '54'},\n",
       " {'Team': 'Burnley', 'Points': '54'},\n",
       " {'Team': 'Southampton', 'Points': '52'},\n",
       " {'Team': 'Everton', 'Points': '49'},\n",
       " {'Team': 'Newcastle United', 'Points': '44'},\n",
       " {'Team': 'Crystal Palace', 'Points': '43'},\n",
       " {'Team': 'Brighton and Hove Albion', 'Points': '41'},\n",
       " {'Team': 'West Ham United', 'Points': '39'},\n",
       " {'Team': 'Aston Villa', 'Points': '35'},\n",
       " {'Team': 'Bournemouth', 'Points': '34'},\n",
       " {'Team': 'Watford', 'Points': '34'},\n",
       " {'Team': 'Norwich City', 'Points': '21'}]"
      ]
     },
     "execution_count": 43,
     "metadata": {},
     "output_type": "execute_result"
    }
   ],
   "source": [
    "pl_2019"
   ]
  },
  {
   "cell_type": "code",
   "execution_count": 46,
   "metadata": {},
   "outputs": [],
   "source": [
    "df = pd.DataFrame(pl_2019)"
   ]
  },
  {
   "cell_type": "code",
   "execution_count": 47,
   "metadata": {},
   "outputs": [
    {
     "data": {
      "text/html": [
       "<div>\n",
       "<style scoped>\n",
       "    .dataframe tbody tr th:only-of-type {\n",
       "        vertical-align: middle;\n",
       "    }\n",
       "\n",
       "    .dataframe tbody tr th {\n",
       "        vertical-align: top;\n",
       "    }\n",
       "\n",
       "    .dataframe thead th {\n",
       "        text-align: right;\n",
       "    }\n",
       "</style>\n",
       "<table border=\"1\" class=\"dataframe\">\n",
       "  <thead>\n",
       "    <tr style=\"text-align: right;\">\n",
       "      <th></th>\n",
       "      <th>Team</th>\n",
       "      <th>Points</th>\n",
       "    </tr>\n",
       "  </thead>\n",
       "  <tbody>\n",
       "    <tr>\n",
       "      <th>0</th>\n",
       "      <td>Liverpool</td>\n",
       "      <td>99</td>\n",
       "    </tr>\n",
       "    <tr>\n",
       "      <th>1</th>\n",
       "      <td>Manchester City</td>\n",
       "      <td>81</td>\n",
       "    </tr>\n",
       "    <tr>\n",
       "      <th>2</th>\n",
       "      <td>Manchester United</td>\n",
       "      <td>66</td>\n",
       "    </tr>\n",
       "    <tr>\n",
       "      <th>3</th>\n",
       "      <td>Chelsea</td>\n",
       "      <td>66</td>\n",
       "    </tr>\n",
       "    <tr>\n",
       "      <th>4</th>\n",
       "      <td>Leicester City</td>\n",
       "      <td>62</td>\n",
       "    </tr>\n",
       "  </tbody>\n",
       "</table>\n",
       "</div>"
      ],
      "text/plain": [
       "                Team Points\n",
       "0          Liverpool     99\n",
       "1    Manchester City     81\n",
       "2  Manchester United     66\n",
       "3            Chelsea     66\n",
       "4     Leicester City     62"
      ]
     },
     "execution_count": 47,
     "metadata": {},
     "output_type": "execute_result"
    }
   ],
   "source": [
    "df.head()"
   ]
  },
  {
   "cell_type": "code",
   "execution_count": 62,
   "metadata": {},
   "outputs": [],
   "source": [
    "for i in range(2000,2020):\n",
    "    url = 'https://www.skysports.com/premier-league-table/'+str(i)\n",
    "    page = requests.get(url)\n",
    "    soup = BeautifulSoup(page.text,'html.parser')\n",
    "    league = soup.find('table',class_='standing-table__table')\n",
    "    league_table = league.find_all('tbody')\n",
    "    data_list=[]\n",
    "    for team in league_table:\n",
    "        rows = team.find_all('tr')\n",
    "        for row in rows:\n",
    "            team_names = row.find('td',class_ = 'standing-table__cell standing-table__cell--name').text.strip()\n",
    "            Pl = row.find_all('td',class_ = 'standing-table__cell')[2].text.strip()\n",
    "            W = row.find_all('td',class_ = 'standing-table__cell')[3].text.strip()\n",
    "            D = row.find_all('td',class_ = 'standing-table__cell')[4].text.strip()\n",
    "            L = row.find_all('td',class_ = 'standing-table__cell')[5].text.strip()\n",
    "            F = row.find_all('td',class_ = 'standing-table__cell')[6].text.strip()\n",
    "            A = row.find_all('td',class_ = 'standing-table__cell')[7].text.strip()\n",
    "            GD = row.find_all('td',class_ = 'standing-table__cell')[8].text.strip()\n",
    "            Pts = row.find_all('td',class_ = 'standing-table__cell')[9].text.strip()\n",
    "            league_dict ={'Team':team_names,'Pl':Pl,'W':W,'D':D,'L':L,'F':F,'A':A,'GD':GD,'pts':Pts}\n",
    "            data_list.append(league_dict)\n",
    "            df= pd.DataFrame(data_list)\n",
    "            df.to_csv('Season'+str(i)+'_'+str(i+1)+'.csv',index=False)\n",
    "            \n"
   ]
  },
  {
   "cell_type": "code",
   "execution_count": null,
   "metadata": {},
   "outputs": [],
   "source": []
  },
  {
   "cell_type": "code",
   "execution_count": null,
   "metadata": {},
   "outputs": [],
   "source": []
  }
 ],
 "metadata": {
  "kernelspec": {
   "display_name": "Python 3",
   "language": "python",
   "name": "python3"
  },
  "language_info": {
   "codemirror_mode": {
    "name": "ipython",
    "version": 3
   },
   "file_extension": ".py",
   "mimetype": "text/x-python",
   "name": "python",
   "nbconvert_exporter": "python",
   "pygments_lexer": "ipython3",
   "version": "3.6.9"
  }
 },
 "nbformat": 4,
 "nbformat_minor": 4
}
