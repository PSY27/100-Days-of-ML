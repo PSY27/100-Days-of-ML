{
 "cells": [
  {
   "cell_type": "code",
   "execution_count": 1,
   "metadata": {},
   "outputs": [],
   "source": [
    "import pandas as pd \n",
    "import numpy as np \n",
    "\n",
    "from sklearn.ensemble import RandomForestClassifier\n",
    "from sklearn import metrics\n",
    "from sklearn import model_selection"
   ]
  },
  {
   "cell_type": "code",
   "execution_count": 2,
   "metadata": {},
   "outputs": [
    {
     "data": {
      "text/html": [
       "<div>\n",
       "<style scoped>\n",
       "    .dataframe tbody tr th:only-of-type {\n",
       "        vertical-align: middle;\n",
       "    }\n",
       "\n",
       "    .dataframe tbody tr th {\n",
       "        vertical-align: top;\n",
       "    }\n",
       "\n",
       "    .dataframe thead th {\n",
       "        text-align: right;\n",
       "    }\n",
       "</style>\n",
       "<table border=\"1\" class=\"dataframe\">\n",
       "  <thead>\n",
       "    <tr style=\"text-align: right;\">\n",
       "      <th></th>\n",
       "      <th>battery_power</th>\n",
       "      <th>blue</th>\n",
       "      <th>clock_speed</th>\n",
       "      <th>dual_sim</th>\n",
       "      <th>fc</th>\n",
       "      <th>four_g</th>\n",
       "      <th>int_memory</th>\n",
       "      <th>m_dep</th>\n",
       "      <th>mobile_wt</th>\n",
       "      <th>n_cores</th>\n",
       "      <th>...</th>\n",
       "      <th>px_height</th>\n",
       "      <th>px_width</th>\n",
       "      <th>ram</th>\n",
       "      <th>sc_h</th>\n",
       "      <th>sc_w</th>\n",
       "      <th>talk_time</th>\n",
       "      <th>three_g</th>\n",
       "      <th>touch_screen</th>\n",
       "      <th>wifi</th>\n",
       "      <th>price_range</th>\n",
       "    </tr>\n",
       "  </thead>\n",
       "  <tbody>\n",
       "    <tr>\n",
       "      <th>0</th>\n",
       "      <td>842</td>\n",
       "      <td>0</td>\n",
       "      <td>2.2</td>\n",
       "      <td>0</td>\n",
       "      <td>1</td>\n",
       "      <td>0</td>\n",
       "      <td>7</td>\n",
       "      <td>0.6</td>\n",
       "      <td>188</td>\n",
       "      <td>2</td>\n",
       "      <td>...</td>\n",
       "      <td>20</td>\n",
       "      <td>756</td>\n",
       "      <td>2549</td>\n",
       "      <td>9</td>\n",
       "      <td>7</td>\n",
       "      <td>19</td>\n",
       "      <td>0</td>\n",
       "      <td>0</td>\n",
       "      <td>1</td>\n",
       "      <td>1</td>\n",
       "    </tr>\n",
       "    <tr>\n",
       "      <th>1</th>\n",
       "      <td>1021</td>\n",
       "      <td>1</td>\n",
       "      <td>0.5</td>\n",
       "      <td>1</td>\n",
       "      <td>0</td>\n",
       "      <td>1</td>\n",
       "      <td>53</td>\n",
       "      <td>0.7</td>\n",
       "      <td>136</td>\n",
       "      <td>3</td>\n",
       "      <td>...</td>\n",
       "      <td>905</td>\n",
       "      <td>1988</td>\n",
       "      <td>2631</td>\n",
       "      <td>17</td>\n",
       "      <td>3</td>\n",
       "      <td>7</td>\n",
       "      <td>1</td>\n",
       "      <td>1</td>\n",
       "      <td>0</td>\n",
       "      <td>2</td>\n",
       "    </tr>\n",
       "    <tr>\n",
       "      <th>2</th>\n",
       "      <td>563</td>\n",
       "      <td>1</td>\n",
       "      <td>0.5</td>\n",
       "      <td>1</td>\n",
       "      <td>2</td>\n",
       "      <td>1</td>\n",
       "      <td>41</td>\n",
       "      <td>0.9</td>\n",
       "      <td>145</td>\n",
       "      <td>5</td>\n",
       "      <td>...</td>\n",
       "      <td>1263</td>\n",
       "      <td>1716</td>\n",
       "      <td>2603</td>\n",
       "      <td>11</td>\n",
       "      <td>2</td>\n",
       "      <td>9</td>\n",
       "      <td>1</td>\n",
       "      <td>1</td>\n",
       "      <td>0</td>\n",
       "      <td>2</td>\n",
       "    </tr>\n",
       "    <tr>\n",
       "      <th>3</th>\n",
       "      <td>615</td>\n",
       "      <td>1</td>\n",
       "      <td>2.5</td>\n",
       "      <td>0</td>\n",
       "      <td>0</td>\n",
       "      <td>0</td>\n",
       "      <td>10</td>\n",
       "      <td>0.8</td>\n",
       "      <td>131</td>\n",
       "      <td>6</td>\n",
       "      <td>...</td>\n",
       "      <td>1216</td>\n",
       "      <td>1786</td>\n",
       "      <td>2769</td>\n",
       "      <td>16</td>\n",
       "      <td>8</td>\n",
       "      <td>11</td>\n",
       "      <td>1</td>\n",
       "      <td>0</td>\n",
       "      <td>0</td>\n",
       "      <td>2</td>\n",
       "    </tr>\n",
       "    <tr>\n",
       "      <th>4</th>\n",
       "      <td>1821</td>\n",
       "      <td>1</td>\n",
       "      <td>1.2</td>\n",
       "      <td>0</td>\n",
       "      <td>13</td>\n",
       "      <td>1</td>\n",
       "      <td>44</td>\n",
       "      <td>0.6</td>\n",
       "      <td>141</td>\n",
       "      <td>2</td>\n",
       "      <td>...</td>\n",
       "      <td>1208</td>\n",
       "      <td>1212</td>\n",
       "      <td>1411</td>\n",
       "      <td>8</td>\n",
       "      <td>2</td>\n",
       "      <td>15</td>\n",
       "      <td>1</td>\n",
       "      <td>1</td>\n",
       "      <td>0</td>\n",
       "      <td>1</td>\n",
       "    </tr>\n",
       "  </tbody>\n",
       "</table>\n",
       "<p>5 rows × 21 columns</p>\n",
       "</div>"
      ],
      "text/plain": [
       "   battery_power  blue  clock_speed  dual_sim  fc  four_g  int_memory  m_dep  \\\n",
       "0            842     0          2.2         0   1       0           7    0.6   \n",
       "1           1021     1          0.5         1   0       1          53    0.7   \n",
       "2            563     1          0.5         1   2       1          41    0.9   \n",
       "3            615     1          2.5         0   0       0          10    0.8   \n",
       "4           1821     1          1.2         0  13       1          44    0.6   \n",
       "\n",
       "   mobile_wt  n_cores  ...  px_height  px_width   ram  sc_h  sc_w  talk_time  \\\n",
       "0        188        2  ...         20       756  2549     9     7         19   \n",
       "1        136        3  ...        905      1988  2631    17     3          7   \n",
       "2        145        5  ...       1263      1716  2603    11     2          9   \n",
       "3        131        6  ...       1216      1786  2769    16     8         11   \n",
       "4        141        2  ...       1208      1212  1411     8     2         15   \n",
       "\n",
       "   three_g  touch_screen  wifi  price_range  \n",
       "0        0             0     1            1  \n",
       "1        1             1     0            2  \n",
       "2        1             1     0            2  \n",
       "3        1             0     0            2  \n",
       "4        1             1     0            1  \n",
       "\n",
       "[5 rows x 21 columns]"
      ]
     },
     "execution_count": 2,
     "metadata": {},
     "output_type": "execute_result"
    }
   ],
   "source": [
    "df = pd.read_csv('train.csv')\n",
    "df.head()"
   ]
  },
  {
   "cell_type": "code",
   "execution_count": 3,
   "metadata": {},
   "outputs": [],
   "source": [
    "X = df.drop('price_range',axis=1).values\n",
    "y = df.price_range.values"
   ]
  },
  {
   "cell_type": "code",
   "execution_count": 4,
   "metadata": {},
   "outputs": [],
   "source": [
    "classifier = RandomForestClassifier(n_jobs=-1)"
   ]
  },
  {
   "cell_type": "code",
   "execution_count": 9,
   "metadata": {},
   "outputs": [],
   "source": [
    "params_grid = {\n",
    "    'n_estimators':np.arange(100,1500,100),\n",
    "    'max_depth':np.arange(1,20,1),\n",
    "    'criterion':['gini','entropy'],\n",
    "}"
   ]
  },
  {
   "cell_type": "code",
   "execution_count": 10,
   "metadata": {},
   "outputs": [],
   "source": [
    "model = model_selection.RandomizedSearchCV(\n",
    "    estimator=classifier,\n",
    "    param_distributions=params_grid,\n",
    "    scoring='accuracy',\n",
    "    verbose=10,\n",
    "    n_iter=10,\n",
    "    n_jobs=1,\n",
    "    cv=5\n",
    "\n",
    ")\n"
   ]
  },
  {
   "cell_type": "code",
   "execution_count": 11,
   "metadata": {},
   "outputs": [
    {
     "name": "stdout",
     "output_type": "stream",
     "text": [
      "Fitting 5 folds for each of 10 candidates, totalling 50 fits\n",
      "[CV] n_estimators=200, max_depth=13, criterion=gini ..................\n"
     ]
    },
    {
     "name": "stderr",
     "output_type": "stream",
     "text": [
      "[Parallel(n_jobs=1)]: Using backend SequentialBackend with 1 concurrent workers.\n"
     ]
    },
    {
     "name": "stdout",
     "output_type": "stream",
     "text": [
      "[CV]  n_estimators=200, max_depth=13, criterion=gini, score=0.880, total=   2.4s\n",
      "[CV] n_estimators=200, max_depth=13, criterion=gini ..................\n"
     ]
    },
    {
     "name": "stderr",
     "output_type": "stream",
     "text": [
      "[Parallel(n_jobs=1)]: Done   1 out of   1 | elapsed:    2.4s remaining:    0.0s\n"
     ]
    },
    {
     "name": "stdout",
     "output_type": "stream",
     "text": [
      "[CV]  n_estimators=200, max_depth=13, criterion=gini, score=0.882, total=   0.3s\n",
      "[CV] n_estimators=200, max_depth=13, criterion=gini ..................\n"
     ]
    },
    {
     "name": "stderr",
     "output_type": "stream",
     "text": [
      "[Parallel(n_jobs=1)]: Done   2 out of   2 | elapsed:    2.7s remaining:    0.0s\n"
     ]
    },
    {
     "name": "stdout",
     "output_type": "stream",
     "text": [
      "[CV]  n_estimators=200, max_depth=13, criterion=gini, score=0.897, total=   0.3s\n",
      "[CV] n_estimators=200, max_depth=13, criterion=gini ..................\n"
     ]
    },
    {
     "name": "stderr",
     "output_type": "stream",
     "text": [
      "[Parallel(n_jobs=1)]: Done   3 out of   3 | elapsed:    3.0s remaining:    0.0s\n"
     ]
    },
    {
     "name": "stdout",
     "output_type": "stream",
     "text": [
      "[CV]  n_estimators=200, max_depth=13, criterion=gini, score=0.885, total=   0.3s\n",
      "[CV] n_estimators=200, max_depth=13, criterion=gini ..................\n"
     ]
    },
    {
     "name": "stderr",
     "output_type": "stream",
     "text": [
      "[Parallel(n_jobs=1)]: Done   4 out of   4 | elapsed:    3.4s remaining:    0.0s\n"
     ]
    },
    {
     "name": "stdout",
     "output_type": "stream",
     "text": [
      "[CV]  n_estimators=200, max_depth=13, criterion=gini, score=0.873, total=   0.3s\n",
      "[CV] n_estimators=300, max_depth=10, criterion=gini ..................\n"
     ]
    },
    {
     "name": "stderr",
     "output_type": "stream",
     "text": [
      "[Parallel(n_jobs=1)]: Done   5 out of   5 | elapsed:    3.7s remaining:    0.0s\n"
     ]
    },
    {
     "name": "stdout",
     "output_type": "stream",
     "text": [
      "[CV]  n_estimators=300, max_depth=10, criterion=gini, score=0.877, total=   0.5s\n",
      "[CV] n_estimators=300, max_depth=10, criterion=gini ..................\n"
     ]
    },
    {
     "name": "stderr",
     "output_type": "stream",
     "text": [
      "[Parallel(n_jobs=1)]: Done   6 out of   6 | elapsed:    4.1s remaining:    0.0s\n"
     ]
    },
    {
     "name": "stdout",
     "output_type": "stream",
     "text": [
      "[CV]  n_estimators=300, max_depth=10, criterion=gini, score=0.895, total=   0.6s\n",
      "[CV] n_estimators=300, max_depth=10, criterion=gini ..................\n"
     ]
    },
    {
     "name": "stderr",
     "output_type": "stream",
     "text": [
      "[Parallel(n_jobs=1)]: Done   7 out of   7 | elapsed:    4.8s remaining:    0.0s\n"
     ]
    },
    {
     "name": "stdout",
     "output_type": "stream",
     "text": [
      "[CV]  n_estimators=300, max_depth=10, criterion=gini, score=0.892, total=   0.6s\n",
      "[CV] n_estimators=300, max_depth=10, criterion=gini ..................\n"
     ]
    },
    {
     "name": "stderr",
     "output_type": "stream",
     "text": [
      "[Parallel(n_jobs=1)]: Done   8 out of   8 | elapsed:    5.4s remaining:    0.0s\n"
     ]
    },
    {
     "name": "stdout",
     "output_type": "stream",
     "text": [
      "[CV]  n_estimators=300, max_depth=10, criterion=gini, score=0.875, total=   0.5s\n",
      "[CV] n_estimators=300, max_depth=10, criterion=gini ..................\n"
     ]
    },
    {
     "name": "stderr",
     "output_type": "stream",
     "text": [
      "[Parallel(n_jobs=1)]: Done   9 out of   9 | elapsed:    5.9s remaining:    0.0s\n"
     ]
    },
    {
     "name": "stdout",
     "output_type": "stream",
     "text": [
      "[CV]  n_estimators=300, max_depth=10, criterion=gini, score=0.860, total=   0.5s\n",
      "[CV] n_estimators=1300, max_depth=4, criterion=gini ..................\n",
      "[CV]  n_estimators=1300, max_depth=4, criterion=gini, score=0.815, total=   1.6s\n",
      "[CV] n_estimators=1300, max_depth=4, criterion=gini ..................\n",
      "[CV]  n_estimators=1300, max_depth=4, criterion=gini, score=0.825, total=   1.4s\n",
      "[CV] n_estimators=1300, max_depth=4, criterion=gini ..................\n",
      "[CV]  n_estimators=1300, max_depth=4, criterion=gini, score=0.848, total=   1.7s\n",
      "[CV] n_estimators=1300, max_depth=4, criterion=gini ..................\n",
      "[CV]  n_estimators=1300, max_depth=4, criterion=gini, score=0.812, total=   1.6s\n",
      "[CV] n_estimators=1300, max_depth=4, criterion=gini ..................\n",
      "[CV]  n_estimators=1300, max_depth=4, criterion=gini, score=0.802, total=   1.5s\n",
      "[CV] n_estimators=100, max_depth=10, criterion=entropy ...............\n",
      "[CV]  n_estimators=100, max_depth=10, criterion=entropy, score=0.873, total=   0.2s\n",
      "[CV] n_estimators=100, max_depth=10, criterion=entropy ...............\n",
      "[CV]  n_estimators=100, max_depth=10, criterion=entropy, score=0.868, total=   0.3s\n",
      "[CV] n_estimators=100, max_depth=10, criterion=entropy ...............\n",
      "[CV]  n_estimators=100, max_depth=10, criterion=entropy, score=0.902, total=   0.2s\n",
      "[CV] n_estimators=100, max_depth=10, criterion=entropy ...............\n",
      "[CV]  n_estimators=100, max_depth=10, criterion=entropy, score=0.848, total=   0.2s\n",
      "[CV] n_estimators=100, max_depth=10, criterion=entropy ...............\n",
      "[CV]  n_estimators=100, max_depth=10, criterion=entropy, score=0.865, total=   0.2s\n",
      "[CV] n_estimators=500, max_depth=1, criterion=entropy ................\n",
      "[CV]  n_estimators=500, max_depth=1, criterion=entropy, score=0.575, total=   0.8s\n",
      "[CV] n_estimators=500, max_depth=1, criterion=entropy ................\n",
      "[CV]  n_estimators=500, max_depth=1, criterion=entropy, score=0.560, total=   0.7s\n",
      "[CV] n_estimators=500, max_depth=1, criterion=entropy ................\n",
      "[CV]  n_estimators=500, max_depth=1, criterion=entropy, score=0.560, total=   0.7s\n",
      "[CV] n_estimators=500, max_depth=1, criterion=entropy ................\n",
      "[CV]  n_estimators=500, max_depth=1, criterion=entropy, score=0.568, total=   0.7s\n",
      "[CV] n_estimators=500, max_depth=1, criterion=entropy ................\n",
      "[CV]  n_estimators=500, max_depth=1, criterion=entropy, score=0.542, total=   0.7s\n",
      "[CV] n_estimators=500, max_depth=7, criterion=gini ...................\n",
      "[CV]  n_estimators=500, max_depth=7, criterion=gini, score=0.853, total=   0.8s\n",
      "[CV] n_estimators=500, max_depth=7, criterion=gini ...................\n",
      "[CV]  n_estimators=500, max_depth=7, criterion=gini, score=0.873, total=   0.9s\n",
      "[CV] n_estimators=500, max_depth=7, criterion=gini ...................\n",
      "[CV]  n_estimators=500, max_depth=7, criterion=gini, score=0.892, total=   0.8s\n",
      "[CV] n_estimators=500, max_depth=7, criterion=gini ...................\n",
      "[CV]  n_estimators=500, max_depth=7, criterion=gini, score=0.863, total=   0.9s\n",
      "[CV] n_estimators=500, max_depth=7, criterion=gini ...................\n",
      "[CV]  n_estimators=500, max_depth=7, criterion=gini, score=0.845, total=   0.8s\n",
      "[CV] n_estimators=400, max_depth=16, criterion=entropy ...............\n",
      "[CV]  n_estimators=400, max_depth=16, criterion=entropy, score=0.892, total=   0.8s\n",
      "[CV] n_estimators=400, max_depth=16, criterion=entropy ...............\n",
      "[CV]  n_estimators=400, max_depth=16, criterion=entropy, score=0.892, total=   0.8s\n",
      "[CV] n_estimators=400, max_depth=16, criterion=entropy ...............\n",
      "[CV]  n_estimators=400, max_depth=16, criterion=entropy, score=0.907, total=   0.8s\n",
      "[CV] n_estimators=400, max_depth=16, criterion=entropy ...............\n",
      "[CV]  n_estimators=400, max_depth=16, criterion=entropy, score=0.853, total=   0.8s\n",
      "[CV] n_estimators=400, max_depth=16, criterion=entropy ...............\n",
      "[CV]  n_estimators=400, max_depth=16, criterion=entropy, score=0.880, total=   0.8s\n",
      "[CV] n_estimators=800, max_depth=11, criterion=entropy ...............\n",
      "[CV]  n_estimators=800, max_depth=11, criterion=entropy, score=0.892, total=   1.4s\n",
      "[CV] n_estimators=800, max_depth=11, criterion=entropy ...............\n",
      "[CV]  n_estimators=800, max_depth=11, criterion=entropy, score=0.895, total=   1.4s\n",
      "[CV] n_estimators=800, max_depth=11, criterion=entropy ...............\n",
      "[CV]  n_estimators=800, max_depth=11, criterion=entropy, score=0.910, total=   1.4s\n",
      "[CV] n_estimators=800, max_depth=11, criterion=entropy ...............\n",
      "[CV]  n_estimators=800, max_depth=11, criterion=entropy, score=0.870, total=   1.3s\n",
      "[CV] n_estimators=800, max_depth=11, criterion=entropy ...............\n",
      "[CV]  n_estimators=800, max_depth=11, criterion=entropy, score=0.877, total=   1.3s\n",
      "[CV] n_estimators=800, max_depth=17, criterion=gini ..................\n",
      "[CV]  n_estimators=800, max_depth=17, criterion=gini, score=0.887, total=   1.1s\n",
      "[CV] n_estimators=800, max_depth=17, criterion=gini ..................\n",
      "[CV]  n_estimators=800, max_depth=17, criterion=gini, score=0.885, total=   1.4s\n",
      "[CV] n_estimators=800, max_depth=17, criterion=gini ..................\n",
      "[CV]  n_estimators=800, max_depth=17, criterion=gini, score=0.897, total=   1.4s\n",
      "[CV] n_estimators=800, max_depth=17, criterion=gini ..................\n",
      "[CV]  n_estimators=800, max_depth=17, criterion=gini, score=0.885, total=   1.6s\n",
      "[CV] n_estimators=800, max_depth=17, criterion=gini ..................\n",
      "[CV]  n_estimators=800, max_depth=17, criterion=gini, score=0.868, total=   1.1s\n",
      "[CV] n_estimators=1100, max_depth=7, criterion=gini ..................\n",
      "[CV]  n_estimators=1100, max_depth=7, criterion=gini, score=0.870, total=   1.5s\n",
      "[CV] n_estimators=1100, max_depth=7, criterion=gini ..................\n",
      "[CV]  n_estimators=1100, max_depth=7, criterion=gini, score=0.875, total=   1.8s\n",
      "[CV] n_estimators=1100, max_depth=7, criterion=gini ..................\n",
      "[CV]  n_estimators=1100, max_depth=7, criterion=gini, score=0.885, total=   1.8s\n",
      "[CV] n_estimators=1100, max_depth=7, criterion=gini ..................\n",
      "[CV]  n_estimators=1100, max_depth=7, criterion=gini, score=0.855, total=   1.5s\n",
      "[CV] n_estimators=1100, max_depth=7, criterion=gini ..................\n",
      "[CV]  n_estimators=1100, max_depth=7, criterion=gini, score=0.838, total=   1.4s\n"
     ]
    },
    {
     "name": "stderr",
     "output_type": "stream",
     "text": [
      "[Parallel(n_jobs=1)]: Done  50 out of  50 | elapsed:   48.4s finished\n"
     ]
    },
    {
     "data": {
      "text/plain": [
       "RandomizedSearchCV(cv=5, error_score=nan,\n",
       "                   estimator=RandomForestClassifier(bootstrap=True,\n",
       "                                                    ccp_alpha=0.0,\n",
       "                                                    class_weight=None,\n",
       "                                                    criterion='gini',\n",
       "                                                    max_depth=None,\n",
       "                                                    max_features='auto',\n",
       "                                                    max_leaf_nodes=None,\n",
       "                                                    max_samples=None,\n",
       "                                                    min_impurity_decrease=0.0,\n",
       "                                                    min_impurity_split=None,\n",
       "                                                    min_samples_leaf=1,\n",
       "                                                    min_samples_split=2,\n",
       "                                                    min_weight_fraction_leaf=0.0,\n",
       "                                                    n_estimators=100, n_jobs...\n",
       "                   iid='deprecated', n_iter=10, n_jobs=1,\n",
       "                   param_distributions={'criterion': ['gini', 'entropy'],\n",
       "                                        'max_depth': array([ 1,  2,  3,  4,  5,  6,  7,  8,  9, 10, 11, 12, 13, 14, 15, 16, 17,\n",
       "       18, 19]),\n",
       "                                        'n_estimators': array([ 100,  200,  300,  400,  500,  600,  700,  800,  900, 1000, 1100,\n",
       "       1200, 1300, 1400])},\n",
       "                   pre_dispatch='2*n_jobs', random_state=None, refit=True,\n",
       "                   return_train_score=False, scoring='accuracy', verbose=10)"
      ]
     },
     "execution_count": 11,
     "metadata": {},
     "output_type": "execute_result"
    }
   ],
   "source": [
    "model.fit(X,y)"
   ]
  },
  {
   "cell_type": "code",
   "execution_count": 12,
   "metadata": {},
   "outputs": [
    {
     "data": {
      "text/plain": [
       "0.889"
      ]
     },
     "execution_count": 12,
     "metadata": {},
     "output_type": "execute_result"
    }
   ],
   "source": [
    "model.best_score_\n"
   ]
  },
  {
   "cell_type": "code",
   "execution_count": 13,
   "metadata": {},
   "outputs": [
    {
     "data": {
      "text/plain": [
       "RandomForestClassifier(bootstrap=True, ccp_alpha=0.0, class_weight=None,\n",
       "                       criterion='entropy', max_depth=11, max_features='auto',\n",
       "                       max_leaf_nodes=None, max_samples=None,\n",
       "                       min_impurity_decrease=0.0, min_impurity_split=None,\n",
       "                       min_samples_leaf=1, min_samples_split=2,\n",
       "                       min_weight_fraction_leaf=0.0, n_estimators=800,\n",
       "                       n_jobs=-1, oob_score=False, random_state=None, verbose=0,\n",
       "                       warm_start=False)"
      ]
     },
     "execution_count": 13,
     "metadata": {},
     "output_type": "execute_result"
    }
   ],
   "source": [
    "model.best_estimator_"
   ]
  },
  {
   "cell_type": "code",
   "execution_count": null,
   "metadata": {},
   "outputs": [],
   "source": []
  }
 ],
 "metadata": {
  "kernelspec": {
   "display_name": "Python 3",
   "language": "python",
   "name": "python3"
  },
  "language_info": {
   "codemirror_mode": {
    "name": "ipython",
    "version": 3
   },
   "file_extension": ".py",
   "mimetype": "text/x-python",
   "name": "python",
   "nbconvert_exporter": "python",
   "pygments_lexer": "ipython3",
   "version": "3.8.3"
  }
 },
 "nbformat": 4,
 "nbformat_minor": 4
}
