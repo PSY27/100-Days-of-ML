{
 "cells": [
  {
   "cell_type": "code",
   "execution_count": 1,
   "metadata": {},
   "outputs": [],
   "source": [
    "import pandas as pd \n",
    "import numpy as np \n",
    "\n",
    "from sklearn.ensemble import RandomForestClassifier\n",
    "from sklearn import metrics\n",
    "from sklearn import model_selection\n",
    "\n",
    "from sklearn import decomposition\n",
    "from sklearn import preprocessing\n",
    "from sklearn import pipeline\n",
    "from functools import partial\n",
    "from skopt import gp_minimize\n",
    "from skopt import space\n",
    "from hyperopt.pyll import scope\n",
    "from hyperopt import hp,fmin,tpe,Trials\n",
    "\n",
    "\n",
    "import optuna"
   ]
  },
  {
   "cell_type": "code",
   "execution_count": 2,
   "metadata": {},
   "outputs": [
    {
     "data": {
      "text/html": [
       "<div>\n",
       "<style scoped>\n",
       "    .dataframe tbody tr th:only-of-type {\n",
       "        vertical-align: middle;\n",
       "    }\n",
       "\n",
       "    .dataframe tbody tr th {\n",
       "        vertical-align: top;\n",
       "    }\n",
       "\n",
       "    .dataframe thead th {\n",
       "        text-align: right;\n",
       "    }\n",
       "</style>\n",
       "<table border=\"1\" class=\"dataframe\">\n",
       "  <thead>\n",
       "    <tr style=\"text-align: right;\">\n",
       "      <th></th>\n",
       "      <th>battery_power</th>\n",
       "      <th>blue</th>\n",
       "      <th>clock_speed</th>\n",
       "      <th>dual_sim</th>\n",
       "      <th>fc</th>\n",
       "      <th>four_g</th>\n",
       "      <th>int_memory</th>\n",
       "      <th>m_dep</th>\n",
       "      <th>mobile_wt</th>\n",
       "      <th>n_cores</th>\n",
       "      <th>...</th>\n",
       "      <th>px_height</th>\n",
       "      <th>px_width</th>\n",
       "      <th>ram</th>\n",
       "      <th>sc_h</th>\n",
       "      <th>sc_w</th>\n",
       "      <th>talk_time</th>\n",
       "      <th>three_g</th>\n",
       "      <th>touch_screen</th>\n",
       "      <th>wifi</th>\n",
       "      <th>price_range</th>\n",
       "    </tr>\n",
       "  </thead>\n",
       "  <tbody>\n",
       "    <tr>\n",
       "      <th>0</th>\n",
       "      <td>842</td>\n",
       "      <td>0</td>\n",
       "      <td>2.2</td>\n",
       "      <td>0</td>\n",
       "      <td>1</td>\n",
       "      <td>0</td>\n",
       "      <td>7</td>\n",
       "      <td>0.6</td>\n",
       "      <td>188</td>\n",
       "      <td>2</td>\n",
       "      <td>...</td>\n",
       "      <td>20</td>\n",
       "      <td>756</td>\n",
       "      <td>2549</td>\n",
       "      <td>9</td>\n",
       "      <td>7</td>\n",
       "      <td>19</td>\n",
       "      <td>0</td>\n",
       "      <td>0</td>\n",
       "      <td>1</td>\n",
       "      <td>1</td>\n",
       "    </tr>\n",
       "    <tr>\n",
       "      <th>1</th>\n",
       "      <td>1021</td>\n",
       "      <td>1</td>\n",
       "      <td>0.5</td>\n",
       "      <td>1</td>\n",
       "      <td>0</td>\n",
       "      <td>1</td>\n",
       "      <td>53</td>\n",
       "      <td>0.7</td>\n",
       "      <td>136</td>\n",
       "      <td>3</td>\n",
       "      <td>...</td>\n",
       "      <td>905</td>\n",
       "      <td>1988</td>\n",
       "      <td>2631</td>\n",
       "      <td>17</td>\n",
       "      <td>3</td>\n",
       "      <td>7</td>\n",
       "      <td>1</td>\n",
       "      <td>1</td>\n",
       "      <td>0</td>\n",
       "      <td>2</td>\n",
       "    </tr>\n",
       "    <tr>\n",
       "      <th>2</th>\n",
       "      <td>563</td>\n",
       "      <td>1</td>\n",
       "      <td>0.5</td>\n",
       "      <td>1</td>\n",
       "      <td>2</td>\n",
       "      <td>1</td>\n",
       "      <td>41</td>\n",
       "      <td>0.9</td>\n",
       "      <td>145</td>\n",
       "      <td>5</td>\n",
       "      <td>...</td>\n",
       "      <td>1263</td>\n",
       "      <td>1716</td>\n",
       "      <td>2603</td>\n",
       "      <td>11</td>\n",
       "      <td>2</td>\n",
       "      <td>9</td>\n",
       "      <td>1</td>\n",
       "      <td>1</td>\n",
       "      <td>0</td>\n",
       "      <td>2</td>\n",
       "    </tr>\n",
       "    <tr>\n",
       "      <th>3</th>\n",
       "      <td>615</td>\n",
       "      <td>1</td>\n",
       "      <td>2.5</td>\n",
       "      <td>0</td>\n",
       "      <td>0</td>\n",
       "      <td>0</td>\n",
       "      <td>10</td>\n",
       "      <td>0.8</td>\n",
       "      <td>131</td>\n",
       "      <td>6</td>\n",
       "      <td>...</td>\n",
       "      <td>1216</td>\n",
       "      <td>1786</td>\n",
       "      <td>2769</td>\n",
       "      <td>16</td>\n",
       "      <td>8</td>\n",
       "      <td>11</td>\n",
       "      <td>1</td>\n",
       "      <td>0</td>\n",
       "      <td>0</td>\n",
       "      <td>2</td>\n",
       "    </tr>\n",
       "    <tr>\n",
       "      <th>4</th>\n",
       "      <td>1821</td>\n",
       "      <td>1</td>\n",
       "      <td>1.2</td>\n",
       "      <td>0</td>\n",
       "      <td>13</td>\n",
       "      <td>1</td>\n",
       "      <td>44</td>\n",
       "      <td>0.6</td>\n",
       "      <td>141</td>\n",
       "      <td>2</td>\n",
       "      <td>...</td>\n",
       "      <td>1208</td>\n",
       "      <td>1212</td>\n",
       "      <td>1411</td>\n",
       "      <td>8</td>\n",
       "      <td>2</td>\n",
       "      <td>15</td>\n",
       "      <td>1</td>\n",
       "      <td>1</td>\n",
       "      <td>0</td>\n",
       "      <td>1</td>\n",
       "    </tr>\n",
       "  </tbody>\n",
       "</table>\n",
       "<p>5 rows × 21 columns</p>\n",
       "</div>"
      ],
      "text/plain": [
       "   battery_power  blue  clock_speed  dual_sim  fc  four_g  int_memory  m_dep  \\\n",
       "0            842     0          2.2         0   1       0           7    0.6   \n",
       "1           1021     1          0.5         1   0       1          53    0.7   \n",
       "2            563     1          0.5         1   2       1          41    0.9   \n",
       "3            615     1          2.5         0   0       0          10    0.8   \n",
       "4           1821     1          1.2         0  13       1          44    0.6   \n",
       "\n",
       "   mobile_wt  n_cores  ...  px_height  px_width   ram  sc_h  sc_w  talk_time  \\\n",
       "0        188        2  ...         20       756  2549     9     7         19   \n",
       "1        136        3  ...        905      1988  2631    17     3          7   \n",
       "2        145        5  ...       1263      1716  2603    11     2          9   \n",
       "3        131        6  ...       1216      1786  2769    16     8         11   \n",
       "4        141        2  ...       1208      1212  1411     8     2         15   \n",
       "\n",
       "   three_g  touch_screen  wifi  price_range  \n",
       "0        0             0     1            1  \n",
       "1        1             1     0            2  \n",
       "2        1             1     0            2  \n",
       "3        1             0     0            2  \n",
       "4        1             1     0            1  \n",
       "\n",
       "[5 rows x 21 columns]"
      ]
     },
     "execution_count": 2,
     "metadata": {},
     "output_type": "execute_result"
    }
   ],
   "source": [
    "df = pd.read_csv('train.csv')\n",
    "df.head()"
   ]
  },
  {
   "cell_type": "code",
   "execution_count": 3,
   "metadata": {},
   "outputs": [],
   "source": [
    "X = df.drop('price_range',axis=1).values\n",
    "y = df.price_range.values"
   ]
  },
  {
   "cell_type": "code",
   "execution_count": 4,
   "metadata": {},
   "outputs": [],
   "source": [
    "def optimize(trail,x,y):\n",
    "    criterion = trail.suggest_categorical('criterion',['gini','entropy'])\n",
    "    n_estimators = trail.suggest_int('n_estimators',100,1500)\n",
    "    max_depth = trail.suggest_int('max_depth',3,15)\n",
    "    max_features = trail.suggest_uniform('max_features',0.01,1)\n",
    "    model = RandomForestClassifier(\n",
    "    n_estimators=n_estimators,\n",
    "    max_features=max_features,\n",
    "    max_depth=max_depth,\n",
    "    criterion=criterion,\n",
    "\n",
    "    )\n",
    "    kf = model_selection.StratifiedKFold(n_splits=5)\n",
    "    accuracies=[]\n",
    "    for idx in kf.split(X=x,y=y):\n",
    "        train_idx,test_idx = idx[0],idx[1]\n",
    "        x_train = x[train_idx]\n",
    "        y_train = y[train_idx]\n",
    "        \n",
    "        x_test = x[test_idx]\n",
    "        y_test = y[test_idx]\n",
    "        model.fit(x_train,y_train)\n",
    "        preds = model.predict(x_test)\n",
    "        accuracy = metrics.accuracy_score(y_test,preds)\n",
    "        accuracies.append(accuracy)\n",
    "        \n",
    "    return -1.0*np.mean(accuracies)"
   ]
  },
  {
   "cell_type": "code",
   "execution_count": 5,
   "metadata": {},
   "outputs": [],
   "source": [
    "optimization_function = partial(\n",
    "    optimize,\n",
    "    x=X,\n",
    "    y=y\n",
    ")"
   ]
  },
  {
   "cell_type": "code",
   "execution_count": 6,
   "metadata": {},
   "outputs": [
    {
     "name": "stderr",
     "output_type": "stream",
     "text": [
      "[I 2020-09-25 19:37:29,279] A new study created in memory with name: no-name-25ebba63-4237-403b-bda8-514bf5fc6ff9\n",
      "[I 2020-09-25 19:37:53,840] Trial 0 finished with value: -0.892 and parameters: {'criterion': 'entropy', 'n_estimators': 1152, 'max_depth': 6, 'max_features': 0.5935603666969232}. Best is trial 0 with value: -0.892.\n",
      "[I 2020-09-25 19:38:13,378] Trial 1 finished with value: -0.8925000000000001 and parameters: {'criterion': 'entropy', 'n_estimators': 965, 'max_depth': 9, 'max_features': 0.3430983334608806}. Best is trial 1 with value: -0.8925000000000001.\n",
      "[I 2020-09-25 19:38:22,821] Trial 2 finished with value: -0.9025000000000001 and parameters: {'criterion': 'gini', 'n_estimators': 376, 'max_depth': 14, 'max_features': 0.663654061849219}. Best is trial 2 with value: -0.9025000000000001.\n",
      "[I 2020-09-25 19:38:34,595] Trial 3 finished with value: -0.7809999999999999 and parameters: {'criterion': 'gini', 'n_estimators': 1235, 'max_depth': 10, 'max_features': 0.07235180697164117}. Best is trial 2 with value: -0.9025000000000001.\n",
      "[I 2020-09-25 19:38:52,910] Trial 4 finished with value: -0.9 and parameters: {'criterion': 'gini', 'n_estimators': 698, 'max_depth': 11, 'max_features': 0.6760422656625389}. Best is trial 2 with value: -0.9025000000000001.\n",
      "[I 2020-09-25 19:39:13,266] Trial 5 finished with value: -0.891 and parameters: {'criterion': 'entropy', 'n_estimators': 916, 'max_depth': 6, 'max_features': 0.546535095688706}. Best is trial 2 with value: -0.9025000000000001.\n",
      "[I 2020-09-25 19:39:39,422] Trial 6 finished with value: -0.905 and parameters: {'criterion': 'entropy', 'n_estimators': 692, 'max_depth': 15, 'max_features': 0.9629948500474985}. Best is trial 6 with value: -0.905.\n",
      "[I 2020-09-25 19:39:54,287] Trial 7 finished with value: -0.8965 and parameters: {'criterion': 'gini', 'n_estimators': 538, 'max_depth': 8, 'max_features': 0.8444209108815148}. Best is trial 6 with value: -0.905.\n",
      "[I 2020-09-25 19:40:13,066] Trial 8 finished with value: -0.897 and parameters: {'criterion': 'entropy', 'n_estimators': 831, 'max_depth': 9, 'max_features': 0.3740941969485497}. Best is trial 6 with value: -0.905.\n",
      "[I 2020-09-25 19:40:39,697] Trial 9 finished with value: -0.9059999999999999 and parameters: {'criterion': 'gini', 'n_estimators': 1127, 'max_depth': 13, 'max_features': 0.5566652114365058}. Best is trial 9 with value: -0.9059999999999999.\n",
      "[I 2020-09-25 19:40:55,441] Trial 10 finished with value: -0.7879999999999999 and parameters: {'criterion': 'gini', 'n_estimators': 1462, 'max_depth': 13, 'max_features': 0.08146494910622182}. Best is trial 9 with value: -0.9059999999999999.\n",
      "[I 2020-09-25 19:41:05,379] Trial 11 finished with value: -0.907 and parameters: {'criterion': 'entropy', 'n_estimators': 262, 'max_depth': 15, 'max_features': 0.9942425387102847}. Best is trial 11 with value: -0.907.\n",
      "[I 2020-09-25 19:41:09,573] Trial 12 finished with value: -0.9015000000000001 and parameters: {'criterion': 'entropy', 'n_estimators': 110, 'max_depth': 12, 'max_features': 0.9727003014428686}. Best is trial 11 with value: -0.907.\n",
      "[I 2020-09-25 19:41:53,218] Trial 13 finished with value: -0.9019999999999999 and parameters: {'criterion': 'gini', 'n_estimators': 1482, 'max_depth': 15, 'max_features': 0.7959750347201151}. Best is trial 11 with value: -0.907.\n",
      "[I 2020-09-25 19:41:57,106] Trial 14 finished with value: -0.8969999999999999 and parameters: {'criterion': 'entropy', 'n_estimators': 197, 'max_depth': 13, 'max_features': 0.2789012921006626}. Best is trial 11 with value: -0.907.\n"
     ]
    }
   ],
   "source": [
    "study = optuna.create_study(direction='minimize')\n",
    "study.optimize(optimization_function,n_trials=15)"
   ]
  },
  {
   "cell_type": "code",
   "execution_count": null,
   "metadata": {},
   "outputs": [],
   "source": []
  },
  {
   "cell_type": "code",
   "execution_count": 9,
   "metadata": {},
   "outputs": [
    {
     "data": {
      "text/plain": [
       "{'criterion': 'entropy',\n",
       " 'n_estimators': 262,\n",
       " 'max_depth': 15,\n",
       " 'max_features': 0.9942425387102847}"
      ]
     },
     "execution_count": 9,
     "metadata": {},
     "output_type": "execute_result"
    }
   ],
   "source": [
    "study.best_params"
   ]
  },
  {
   "cell_type": "code",
   "execution_count": 10,
   "metadata": {},
   "outputs": [
    {
     "data": {
      "text/plain": [
       "-0.907"
      ]
     },
     "execution_count": 10,
     "metadata": {},
     "output_type": "execute_result"
    }
   ],
   "source": [
    "study.best_value"
   ]
  },
  {
   "cell_type": "code",
   "execution_count": null,
   "metadata": {},
   "outputs": [],
   "source": []
  }
 ],
 "metadata": {
  "kernelspec": {
   "display_name": "Python 3",
   "language": "python",
   "name": "python3"
  },
  "language_info": {
   "codemirror_mode": {
    "name": "ipython",
    "version": 3
   },
   "file_extension": ".py",
   "mimetype": "text/x-python",
   "name": "python",
   "nbconvert_exporter": "python",
   "pygments_lexer": "ipython3",
   "version": "3.8.3"
  }
 },
 "nbformat": 4,
 "nbformat_minor": 4
}
