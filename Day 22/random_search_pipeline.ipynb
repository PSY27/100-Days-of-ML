{
 "cells": [
  {
   "cell_type": "code",
   "execution_count": 1,
   "metadata": {},
   "outputs": [],
   "source": [
    "import pandas as pd \n",
    "import numpy as np \n",
    "\n",
    "from sklearn.ensemble import RandomForestClassifier\n",
    "from sklearn import metrics\n",
    "from sklearn import model_selection\n",
    "\n",
    "from sklearn import decomposition\n",
    "from sklearn import preprocessing\n",
    "from sklearn import pipeline\n"
   ]
  },
  {
   "cell_type": "code",
   "execution_count": 2,
   "metadata": {},
   "outputs": [
    {
     "data": {
      "text/html": [
       "<div>\n",
       "<style scoped>\n",
       "    .dataframe tbody tr th:only-of-type {\n",
       "        vertical-align: middle;\n",
       "    }\n",
       "\n",
       "    .dataframe tbody tr th {\n",
       "        vertical-align: top;\n",
       "    }\n",
       "\n",
       "    .dataframe thead th {\n",
       "        text-align: right;\n",
       "    }\n",
       "</style>\n",
       "<table border=\"1\" class=\"dataframe\">\n",
       "  <thead>\n",
       "    <tr style=\"text-align: right;\">\n",
       "      <th></th>\n",
       "      <th>battery_power</th>\n",
       "      <th>blue</th>\n",
       "      <th>clock_speed</th>\n",
       "      <th>dual_sim</th>\n",
       "      <th>fc</th>\n",
       "      <th>four_g</th>\n",
       "      <th>int_memory</th>\n",
       "      <th>m_dep</th>\n",
       "      <th>mobile_wt</th>\n",
       "      <th>n_cores</th>\n",
       "      <th>...</th>\n",
       "      <th>px_height</th>\n",
       "      <th>px_width</th>\n",
       "      <th>ram</th>\n",
       "      <th>sc_h</th>\n",
       "      <th>sc_w</th>\n",
       "      <th>talk_time</th>\n",
       "      <th>three_g</th>\n",
       "      <th>touch_screen</th>\n",
       "      <th>wifi</th>\n",
       "      <th>price_range</th>\n",
       "    </tr>\n",
       "  </thead>\n",
       "  <tbody>\n",
       "    <tr>\n",
       "      <th>0</th>\n",
       "      <td>842</td>\n",
       "      <td>0</td>\n",
       "      <td>2.2</td>\n",
       "      <td>0</td>\n",
       "      <td>1</td>\n",
       "      <td>0</td>\n",
       "      <td>7</td>\n",
       "      <td>0.6</td>\n",
       "      <td>188</td>\n",
       "      <td>2</td>\n",
       "      <td>...</td>\n",
       "      <td>20</td>\n",
       "      <td>756</td>\n",
       "      <td>2549</td>\n",
       "      <td>9</td>\n",
       "      <td>7</td>\n",
       "      <td>19</td>\n",
       "      <td>0</td>\n",
       "      <td>0</td>\n",
       "      <td>1</td>\n",
       "      <td>1</td>\n",
       "    </tr>\n",
       "    <tr>\n",
       "      <th>1</th>\n",
       "      <td>1021</td>\n",
       "      <td>1</td>\n",
       "      <td>0.5</td>\n",
       "      <td>1</td>\n",
       "      <td>0</td>\n",
       "      <td>1</td>\n",
       "      <td>53</td>\n",
       "      <td>0.7</td>\n",
       "      <td>136</td>\n",
       "      <td>3</td>\n",
       "      <td>...</td>\n",
       "      <td>905</td>\n",
       "      <td>1988</td>\n",
       "      <td>2631</td>\n",
       "      <td>17</td>\n",
       "      <td>3</td>\n",
       "      <td>7</td>\n",
       "      <td>1</td>\n",
       "      <td>1</td>\n",
       "      <td>0</td>\n",
       "      <td>2</td>\n",
       "    </tr>\n",
       "    <tr>\n",
       "      <th>2</th>\n",
       "      <td>563</td>\n",
       "      <td>1</td>\n",
       "      <td>0.5</td>\n",
       "      <td>1</td>\n",
       "      <td>2</td>\n",
       "      <td>1</td>\n",
       "      <td>41</td>\n",
       "      <td>0.9</td>\n",
       "      <td>145</td>\n",
       "      <td>5</td>\n",
       "      <td>...</td>\n",
       "      <td>1263</td>\n",
       "      <td>1716</td>\n",
       "      <td>2603</td>\n",
       "      <td>11</td>\n",
       "      <td>2</td>\n",
       "      <td>9</td>\n",
       "      <td>1</td>\n",
       "      <td>1</td>\n",
       "      <td>0</td>\n",
       "      <td>2</td>\n",
       "    </tr>\n",
       "    <tr>\n",
       "      <th>3</th>\n",
       "      <td>615</td>\n",
       "      <td>1</td>\n",
       "      <td>2.5</td>\n",
       "      <td>0</td>\n",
       "      <td>0</td>\n",
       "      <td>0</td>\n",
       "      <td>10</td>\n",
       "      <td>0.8</td>\n",
       "      <td>131</td>\n",
       "      <td>6</td>\n",
       "      <td>...</td>\n",
       "      <td>1216</td>\n",
       "      <td>1786</td>\n",
       "      <td>2769</td>\n",
       "      <td>16</td>\n",
       "      <td>8</td>\n",
       "      <td>11</td>\n",
       "      <td>1</td>\n",
       "      <td>0</td>\n",
       "      <td>0</td>\n",
       "      <td>2</td>\n",
       "    </tr>\n",
       "    <tr>\n",
       "      <th>4</th>\n",
       "      <td>1821</td>\n",
       "      <td>1</td>\n",
       "      <td>1.2</td>\n",
       "      <td>0</td>\n",
       "      <td>13</td>\n",
       "      <td>1</td>\n",
       "      <td>44</td>\n",
       "      <td>0.6</td>\n",
       "      <td>141</td>\n",
       "      <td>2</td>\n",
       "      <td>...</td>\n",
       "      <td>1208</td>\n",
       "      <td>1212</td>\n",
       "      <td>1411</td>\n",
       "      <td>8</td>\n",
       "      <td>2</td>\n",
       "      <td>15</td>\n",
       "      <td>1</td>\n",
       "      <td>1</td>\n",
       "      <td>0</td>\n",
       "      <td>1</td>\n",
       "    </tr>\n",
       "  </tbody>\n",
       "</table>\n",
       "<p>5 rows × 21 columns</p>\n",
       "</div>"
      ],
      "text/plain": [
       "   battery_power  blue  clock_speed  dual_sim  fc  four_g  int_memory  m_dep  \\\n",
       "0            842     0          2.2         0   1       0           7    0.6   \n",
       "1           1021     1          0.5         1   0       1          53    0.7   \n",
       "2            563     1          0.5         1   2       1          41    0.9   \n",
       "3            615     1          2.5         0   0       0          10    0.8   \n",
       "4           1821     1          1.2         0  13       1          44    0.6   \n",
       "\n",
       "   mobile_wt  n_cores  ...  px_height  px_width   ram  sc_h  sc_w  talk_time  \\\n",
       "0        188        2  ...         20       756  2549     9     7         19   \n",
       "1        136        3  ...        905      1988  2631    17     3          7   \n",
       "2        145        5  ...       1263      1716  2603    11     2          9   \n",
       "3        131        6  ...       1216      1786  2769    16     8         11   \n",
       "4        141        2  ...       1208      1212  1411     8     2         15   \n",
       "\n",
       "   three_g  touch_screen  wifi  price_range  \n",
       "0        0             0     1            1  \n",
       "1        1             1     0            2  \n",
       "2        1             1     0            2  \n",
       "3        1             0     0            2  \n",
       "4        1             1     0            1  \n",
       "\n",
       "[5 rows x 21 columns]"
      ]
     },
     "execution_count": 2,
     "metadata": {},
     "output_type": "execute_result"
    }
   ],
   "source": [
    "df = pd.read_csv('train.csv')\n",
    "df.head()"
   ]
  },
  {
   "cell_type": "code",
   "execution_count": 3,
   "metadata": {},
   "outputs": [],
   "source": [
    "X = df.drop('price_range',axis=1).values\n",
    "y = df.price_range.values"
   ]
  },
  {
   "cell_type": "code",
   "execution_count": null,
   "metadata": {},
   "outputs": [],
   "source": []
  },
  {
   "cell_type": "code",
   "execution_count": 4,
   "metadata": {},
   "outputs": [],
   "source": [
    "scl = preprocessing.StandardScaler()\n",
    "pca = decomposition.PCA()\n",
    "rf = RandomForestClassifier(n_jobs=-1)"
   ]
  },
  {
   "cell_type": "code",
   "execution_count": 5,
   "metadata": {},
   "outputs": [],
   "source": [
    "classifier = pipeline.Pipeline(\n",
    "    [\n",
    "        ('scaling',scl),\n",
    "        ('pca',pca),\n",
    "        ('rf',rf)\n",
    "        \n",
    "    ])"
   ]
  },
  {
   "cell_type": "code",
   "execution_count": 6,
   "metadata": {},
   "outputs": [],
   "source": [
    "params_grid = {\n",
    "    'pca__n_components':np.arange(5,10),\n",
    "    'rf__n_estimators':np.arange(100,1500,100),\n",
    "    'rf__max_depth':np.arange(1,20,1),\n",
    "    'rf__criterion':['gini','entropy'],\n",
    "}"
   ]
  },
  {
   "cell_type": "code",
   "execution_count": 7,
   "metadata": {},
   "outputs": [],
   "source": [
    "model = model_selection.RandomizedSearchCV(\n",
    "    estimator=classifier,\n",
    "    param_distributions=params_grid,\n",
    "    scoring='accuracy',\n",
    "    verbose=10,\n",
    "    n_iter=10,\n",
    "    n_jobs=1,\n",
    "    cv=5\n",
    "\n",
    ")\n"
   ]
  },
  {
   "cell_type": "code",
   "execution_count": 8,
   "metadata": {},
   "outputs": [
    {
     "name": "stdout",
     "output_type": "stream",
     "text": [
      "Fitting 5 folds for each of 10 candidates, totalling 50 fits\n",
      "[CV] rf__n_estimators=1400, rf__max_depth=18, rf__criterion=entropy, pca__n_components=7 \n"
     ]
    },
    {
     "name": "stderr",
     "output_type": "stream",
     "text": [
      "[Parallel(n_jobs=1)]: Using backend SequentialBackend with 1 concurrent workers.\n"
     ]
    },
    {
     "name": "stdout",
     "output_type": "stream",
     "text": [
      "[CV]  rf__n_estimators=1400, rf__max_depth=18, rf__criterion=entropy, pca__n_components=7, score=0.388, total=   5.8s\n",
      "[CV] rf__n_estimators=1400, rf__max_depth=18, rf__criterion=entropy, pca__n_components=7 \n"
     ]
    },
    {
     "name": "stderr",
     "output_type": "stream",
     "text": [
      "[Parallel(n_jobs=1)]: Done   1 out of   1 | elapsed:    5.8s remaining:    0.0s\n"
     ]
    },
    {
     "name": "stdout",
     "output_type": "stream",
     "text": [
      "[CV]  rf__n_estimators=1400, rf__max_depth=18, rf__criterion=entropy, pca__n_components=7, score=0.407, total=   3.1s\n",
      "[CV] rf__n_estimators=1400, rf__max_depth=18, rf__criterion=entropy, pca__n_components=7 \n"
     ]
    },
    {
     "name": "stderr",
     "output_type": "stream",
     "text": [
      "[Parallel(n_jobs=1)]: Done   2 out of   2 | elapsed:    8.9s remaining:    0.0s\n"
     ]
    },
    {
     "name": "stdout",
     "output_type": "stream",
     "text": [
      "[CV]  rf__n_estimators=1400, rf__max_depth=18, rf__criterion=entropy, pca__n_components=7, score=0.378, total=   3.3s\n",
      "[CV] rf__n_estimators=1400, rf__max_depth=18, rf__criterion=entropy, pca__n_components=7 \n"
     ]
    },
    {
     "name": "stderr",
     "output_type": "stream",
     "text": [
      "[Parallel(n_jobs=1)]: Done   3 out of   3 | elapsed:   12.2s remaining:    0.0s\n"
     ]
    },
    {
     "name": "stdout",
     "output_type": "stream",
     "text": [
      "[CV]  rf__n_estimators=1400, rf__max_depth=18, rf__criterion=entropy, pca__n_components=7, score=0.425, total=   3.2s\n",
      "[CV] rf__n_estimators=1400, rf__max_depth=18, rf__criterion=entropy, pca__n_components=7 \n"
     ]
    },
    {
     "name": "stderr",
     "output_type": "stream",
     "text": [
      "[Parallel(n_jobs=1)]: Done   4 out of   4 | elapsed:   15.5s remaining:    0.0s\n"
     ]
    },
    {
     "name": "stdout",
     "output_type": "stream",
     "text": [
      "[CV]  rf__n_estimators=1400, rf__max_depth=18, rf__criterion=entropy, pca__n_components=7, score=0.415, total=   3.2s\n",
      "[CV] rf__n_estimators=700, rf__max_depth=11, rf__criterion=gini, pca__n_components=7 \n"
     ]
    },
    {
     "name": "stderr",
     "output_type": "stream",
     "text": [
      "[Parallel(n_jobs=1)]: Done   5 out of   5 | elapsed:   18.6s remaining:    0.0s\n"
     ]
    },
    {
     "name": "stdout",
     "output_type": "stream",
     "text": [
      "[CV]  rf__n_estimators=700, rf__max_depth=11, rf__criterion=gini, pca__n_components=7, score=0.407, total=   1.3s\n",
      "[CV] rf__n_estimators=700, rf__max_depth=11, rf__criterion=gini, pca__n_components=7 \n"
     ]
    },
    {
     "name": "stderr",
     "output_type": "stream",
     "text": [
      "[Parallel(n_jobs=1)]: Done   6 out of   6 | elapsed:   19.9s remaining:    0.0s\n"
     ]
    },
    {
     "name": "stdout",
     "output_type": "stream",
     "text": [
      "[CV]  rf__n_estimators=700, rf__max_depth=11, rf__criterion=gini, pca__n_components=7, score=0.422, total=   1.3s\n",
      "[CV] rf__n_estimators=700, rf__max_depth=11, rf__criterion=gini, pca__n_components=7 \n"
     ]
    },
    {
     "name": "stderr",
     "output_type": "stream",
     "text": [
      "[Parallel(n_jobs=1)]: Done   7 out of   7 | elapsed:   21.3s remaining:    0.0s\n"
     ]
    },
    {
     "name": "stdout",
     "output_type": "stream",
     "text": [
      "[CV]  rf__n_estimators=700, rf__max_depth=11, rf__criterion=gini, pca__n_components=7, score=0.385, total=   1.3s\n",
      "[CV] rf__n_estimators=700, rf__max_depth=11, rf__criterion=gini, pca__n_components=7 \n"
     ]
    },
    {
     "name": "stderr",
     "output_type": "stream",
     "text": [
      "[Parallel(n_jobs=1)]: Done   8 out of   8 | elapsed:   22.5s remaining:    0.0s\n"
     ]
    },
    {
     "name": "stdout",
     "output_type": "stream",
     "text": [
      "[CV]  rf__n_estimators=700, rf__max_depth=11, rf__criterion=gini, pca__n_components=7, score=0.432, total=   1.3s\n",
      "[CV] rf__n_estimators=700, rf__max_depth=11, rf__criterion=gini, pca__n_components=7 \n"
     ]
    },
    {
     "name": "stderr",
     "output_type": "stream",
     "text": [
      "[Parallel(n_jobs=1)]: Done   9 out of   9 | elapsed:   23.9s remaining:    0.0s\n"
     ]
    },
    {
     "name": "stdout",
     "output_type": "stream",
     "text": [
      "[CV]  rf__n_estimators=700, rf__max_depth=11, rf__criterion=gini, pca__n_components=7, score=0.420, total=   1.3s\n",
      "[CV] rf__n_estimators=200, rf__max_depth=5, rf__criterion=entropy, pca__n_components=6 \n",
      "[CV]  rf__n_estimators=200, rf__max_depth=5, rf__criterion=entropy, pca__n_components=6, score=0.407, total=   0.5s\n",
      "[CV] rf__n_estimators=200, rf__max_depth=5, rf__criterion=entropy, pca__n_components=6 \n",
      "[CV]  rf__n_estimators=200, rf__max_depth=5, rf__criterion=entropy, pca__n_components=6, score=0.438, total=   0.5s\n",
      "[CV] rf__n_estimators=200, rf__max_depth=5, rf__criterion=entropy, pca__n_components=6 \n",
      "[CV]  rf__n_estimators=200, rf__max_depth=5, rf__criterion=entropy, pca__n_components=6, score=0.385, total=   0.5s\n",
      "[CV] rf__n_estimators=200, rf__max_depth=5, rf__criterion=entropy, pca__n_components=6 \n",
      "[CV]  rf__n_estimators=200, rf__max_depth=5, rf__criterion=entropy, pca__n_components=6, score=0.405, total=   0.5s\n",
      "[CV] rf__n_estimators=200, rf__max_depth=5, rf__criterion=entropy, pca__n_components=6 \n",
      "[CV]  rf__n_estimators=200, rf__max_depth=5, rf__criterion=entropy, pca__n_components=6, score=0.385, total=   0.5s\n",
      "[CV] rf__n_estimators=1300, rf__max_depth=5, rf__criterion=entropy, pca__n_components=8 \n",
      "[CV]  rf__n_estimators=1300, rf__max_depth=5, rf__criterion=entropy, pca__n_components=8, score=0.412, total=   2.1s\n",
      "[CV] rf__n_estimators=1300, rf__max_depth=5, rf__criterion=entropy, pca__n_components=8 \n",
      "[CV]  rf__n_estimators=1300, rf__max_depth=5, rf__criterion=entropy, pca__n_components=8, score=0.440, total=   2.1s\n",
      "[CV] rf__n_estimators=1300, rf__max_depth=5, rf__criterion=entropy, pca__n_components=8 \n",
      "[CV]  rf__n_estimators=1300, rf__max_depth=5, rf__criterion=entropy, pca__n_components=8, score=0.407, total=   2.2s\n",
      "[CV] rf__n_estimators=1300, rf__max_depth=5, rf__criterion=entropy, pca__n_components=8 \n",
      "[CV]  rf__n_estimators=1300, rf__max_depth=5, rf__criterion=entropy, pca__n_components=8, score=0.430, total=   2.2s\n",
      "[CV] rf__n_estimators=1300, rf__max_depth=5, rf__criterion=entropy, pca__n_components=8 \n",
      "[CV]  rf__n_estimators=1300, rf__max_depth=5, rf__criterion=entropy, pca__n_components=8, score=0.445, total=   2.1s\n",
      "[CV] rf__n_estimators=1000, rf__max_depth=6, rf__criterion=entropy, pca__n_components=5 \n",
      "[CV]  rf__n_estimators=1000, rf__max_depth=6, rf__criterion=entropy, pca__n_components=5, score=0.350, total=   1.8s\n",
      "[CV] rf__n_estimators=1000, rf__max_depth=6, rf__criterion=entropy, pca__n_components=5 \n",
      "[CV]  rf__n_estimators=1000, rf__max_depth=6, rf__criterion=entropy, pca__n_components=5, score=0.360, total=   1.6s\n",
      "[CV] rf__n_estimators=1000, rf__max_depth=6, rf__criterion=entropy, pca__n_components=5 \n",
      "[CV]  rf__n_estimators=1000, rf__max_depth=6, rf__criterion=entropy, pca__n_components=5, score=0.292, total=   2.0s\n",
      "[CV] rf__n_estimators=1000, rf__max_depth=6, rf__criterion=entropy, pca__n_components=5 \n",
      "[CV]  rf__n_estimators=1000, rf__max_depth=6, rf__criterion=entropy, pca__n_components=5, score=0.315, total=   2.0s\n",
      "[CV] rf__n_estimators=1000, rf__max_depth=6, rf__criterion=entropy, pca__n_components=5 \n",
      "[CV]  rf__n_estimators=1000, rf__max_depth=6, rf__criterion=entropy, pca__n_components=5, score=0.242, total=   2.0s\n",
      "[CV] rf__n_estimators=1300, rf__max_depth=7, rf__criterion=gini, pca__n_components=7 \n",
      "[CV]  rf__n_estimators=1300, rf__max_depth=7, rf__criterion=gini, pca__n_components=7, score=0.388, total=   2.2s\n",
      "[CV] rf__n_estimators=1300, rf__max_depth=7, rf__criterion=gini, pca__n_components=7 \n",
      "[CV]  rf__n_estimators=1300, rf__max_depth=7, rf__criterion=gini, pca__n_components=7, score=0.415, total=   2.6s\n",
      "[CV] rf__n_estimators=1300, rf__max_depth=7, rf__criterion=gini, pca__n_components=7 \n",
      "[CV]  rf__n_estimators=1300, rf__max_depth=7, rf__criterion=gini, pca__n_components=7, score=0.383, total=   2.1s\n",
      "[CV] rf__n_estimators=1300, rf__max_depth=7, rf__criterion=gini, pca__n_components=7 \n",
      "[CV]  rf__n_estimators=1300, rf__max_depth=7, rf__criterion=gini, pca__n_components=7, score=0.420, total=   2.1s\n",
      "[CV] rf__n_estimators=1300, rf__max_depth=7, rf__criterion=gini, pca__n_components=7 \n",
      "[CV]  rf__n_estimators=1300, rf__max_depth=7, rf__criterion=gini, pca__n_components=7, score=0.405, total=   2.2s\n",
      "[CV] rf__n_estimators=900, rf__max_depth=19, rf__criterion=entropy, pca__n_components=5 \n",
      "[CV]  rf__n_estimators=900, rf__max_depth=19, rf__criterion=entropy, pca__n_components=5, score=0.330, total=   2.2s\n",
      "[CV] rf__n_estimators=900, rf__max_depth=19, rf__criterion=entropy, pca__n_components=5 \n",
      "[CV]  rf__n_estimators=900, rf__max_depth=19, rf__criterion=entropy, pca__n_components=5, score=0.325, total=   2.3s\n",
      "[CV] rf__n_estimators=900, rf__max_depth=19, rf__criterion=entropy, pca__n_components=5 \n",
      "[CV]  rf__n_estimators=900, rf__max_depth=19, rf__criterion=entropy, pca__n_components=5, score=0.275, total=   2.4s\n",
      "[CV] rf__n_estimators=900, rf__max_depth=19, rf__criterion=entropy, pca__n_components=5 \n",
      "[CV]  rf__n_estimators=900, rf__max_depth=19, rf__criterion=entropy, pca__n_components=5, score=0.285, total=   2.5s\n",
      "[CV] rf__n_estimators=900, rf__max_depth=19, rf__criterion=entropy, pca__n_components=5 \n",
      "[CV]  rf__n_estimators=900, rf__max_depth=19, rf__criterion=entropy, pca__n_components=5, score=0.263, total=   2.4s\n",
      "[CV] rf__n_estimators=700, rf__max_depth=5, rf__criterion=gini, pca__n_components=7 \n",
      "[CV]  rf__n_estimators=700, rf__max_depth=5, rf__criterion=gini, pca__n_components=7, score=0.388, total=   1.2s\n",
      "[CV] rf__n_estimators=700, rf__max_depth=5, rf__criterion=gini, pca__n_components=7 \n",
      "[CV]  rf__n_estimators=700, rf__max_depth=5, rf__criterion=gini, pca__n_components=7, score=0.425, total=   1.1s\n",
      "[CV] rf__n_estimators=700, rf__max_depth=5, rf__criterion=gini, pca__n_components=7 \n",
      "[CV]  rf__n_estimators=700, rf__max_depth=5, rf__criterion=gini, pca__n_components=7, score=0.380, total=   1.3s\n",
      "[CV] rf__n_estimators=700, rf__max_depth=5, rf__criterion=gini, pca__n_components=7 \n",
      "[CV]  rf__n_estimators=700, rf__max_depth=5, rf__criterion=gini, pca__n_components=7, score=0.395, total=   1.6s\n",
      "[CV] rf__n_estimators=700, rf__max_depth=5, rf__criterion=gini, pca__n_components=7 \n",
      "[CV]  rf__n_estimators=700, rf__max_depth=5, rf__criterion=gini, pca__n_components=7, score=0.420, total=   1.2s\n",
      "[CV] rf__n_estimators=800, rf__max_depth=17, rf__criterion=gini, pca__n_components=5 \n",
      "[CV]  rf__n_estimators=800, rf__max_depth=17, rf__criterion=gini, pca__n_components=5, score=0.333, total=   1.5s\n",
      "[CV] rf__n_estimators=800, rf__max_depth=17, rf__criterion=gini, pca__n_components=5 \n",
      "[CV]  rf__n_estimators=800, rf__max_depth=17, rf__criterion=gini, pca__n_components=5, score=0.340, total=   1.5s\n",
      "[CV] rf__n_estimators=800, rf__max_depth=17, rf__criterion=gini, pca__n_components=5 \n",
      "[CV]  rf__n_estimators=800, rf__max_depth=17, rf__criterion=gini, pca__n_components=5, score=0.285, total=   1.6s\n",
      "[CV] rf__n_estimators=800, rf__max_depth=17, rf__criterion=gini, pca__n_components=5 \n",
      "[CV]  rf__n_estimators=800, rf__max_depth=17, rf__criterion=gini, pca__n_components=5, score=0.280, total=   1.5s\n",
      "[CV] rf__n_estimators=800, rf__max_depth=17, rf__criterion=gini, pca__n_components=5 \n",
      "[CV]  rf__n_estimators=800, rf__max_depth=17, rf__criterion=gini, pca__n_components=5, score=0.263, total=   1.6s\n",
      "[CV] rf__n_estimators=400, rf__max_depth=15, rf__criterion=gini, pca__n_components=6 \n",
      "[CV]  rf__n_estimators=400, rf__max_depth=15, rf__criterion=gini, pca__n_components=6, score=0.350, total=   0.9s\n",
      "[CV] rf__n_estimators=400, rf__max_depth=15, rf__criterion=gini, pca__n_components=6 \n",
      "[CV]  rf__n_estimators=400, rf__max_depth=15, rf__criterion=gini, pca__n_components=6, score=0.393, total=   0.8s\n",
      "[CV] rf__n_estimators=400, rf__max_depth=15, rf__criterion=gini, pca__n_components=6 \n",
      "[CV]  rf__n_estimators=400, rf__max_depth=15, rf__criterion=gini, pca__n_components=6, score=0.338, total=   0.7s\n",
      "[CV] rf__n_estimators=400, rf__max_depth=15, rf__criterion=gini, pca__n_components=6 \n",
      "[CV]  rf__n_estimators=400, rf__max_depth=15, rf__criterion=gini, pca__n_components=6, score=0.415, total=   0.7s\n",
      "[CV] rf__n_estimators=400, rf__max_depth=15, rf__criterion=gini, pca__n_components=6 \n",
      "[CV]  rf__n_estimators=400, rf__max_depth=15, rf__criterion=gini, pca__n_components=6, score=0.343, total=   0.7s\n"
     ]
    },
    {
     "name": "stderr",
     "output_type": "stream",
     "text": [
      "[Parallel(n_jobs=1)]: Done  50 out of  50 | elapsed:  1.5min finished\n"
     ]
    },
    {
     "data": {
      "text/plain": [
       "RandomizedSearchCV(cv=5, error_score=nan,\n",
       "                   estimator=Pipeline(memory=None,\n",
       "                                      steps=[('scaling',\n",
       "                                              StandardScaler(copy=True,\n",
       "                                                             with_mean=True,\n",
       "                                                             with_std=True)),\n",
       "                                             ('pca',\n",
       "                                              PCA(copy=True,\n",
       "                                                  iterated_power='auto',\n",
       "                                                  n_components=None,\n",
       "                                                  random_state=None,\n",
       "                                                  svd_solver='auto', tol=0.0,\n",
       "                                                  whiten=False)),\n",
       "                                             ('rf',\n",
       "                                              RandomForestClassifier(bootstrap=True,\n",
       "                                                                     ccp_alpha=0.0,\n",
       "                                                                     class_weight=None,\n",
       "                                                                     criterion...\n",
       "                   param_distributions={'pca__n_components': array([5, 6, 7, 8, 9]),\n",
       "                                        'rf__criterion': ['gini', 'entropy'],\n",
       "                                        'rf__max_depth': array([ 1,  2,  3,  4,  5,  6,  7,  8,  9, 10, 11, 12, 13, 14, 15, 16, 17,\n",
       "       18, 19]),\n",
       "                                        'rf__n_estimators': array([ 100,  200,  300,  400,  500,  600,  700,  800,  900, 1000, 1100,\n",
       "       1200, 1300, 1400])},\n",
       "                   pre_dispatch='2*n_jobs', random_state=None, refit=True,\n",
       "                   return_train_score=False, scoring='accuracy', verbose=10)"
      ]
     },
     "execution_count": 8,
     "metadata": {},
     "output_type": "execute_result"
    }
   ],
   "source": [
    "model.fit(X,y)"
   ]
  },
  {
   "cell_type": "code",
   "execution_count": null,
   "metadata": {},
   "outputs": [],
   "source": []
  },
  {
   "cell_type": "code",
   "execution_count": 9,
   "metadata": {},
   "outputs": [
    {
     "data": {
      "text/plain": [
       "0.42699999999999994"
      ]
     },
     "execution_count": 9,
     "metadata": {},
     "output_type": "execute_result"
    }
   ],
   "source": [
    "model.best_score_"
   ]
  },
  {
   "cell_type": "code",
   "execution_count": 10,
   "metadata": {},
   "outputs": [
    {
     "data": {
      "text/plain": [
       "Pipeline(memory=None,\n",
       "         steps=[('scaling',\n",
       "                 StandardScaler(copy=True, with_mean=True, with_std=True)),\n",
       "                ('pca',\n",
       "                 PCA(copy=True, iterated_power='auto', n_components=8,\n",
       "                     random_state=None, svd_solver='auto', tol=0.0,\n",
       "                     whiten=False)),\n",
       "                ('rf',\n",
       "                 RandomForestClassifier(bootstrap=True, ccp_alpha=0.0,\n",
       "                                        class_weight=None, criterion='entropy',\n",
       "                                        max_depth=5, max_features='auto',\n",
       "                                        max_leaf_nodes=None, max_samples=None,\n",
       "                                        min_impurity_decrease=0.0,\n",
       "                                        min_impurity_split=None,\n",
       "                                        min_samples_leaf=1, min_samples_split=2,\n",
       "                                        min_weight_fraction_leaf=0.0,\n",
       "                                        n_estimators=1300, n_jobs=-1,\n",
       "                                        oob_score=False, random_state=None,\n",
       "                                        verbose=0, warm_start=False))],\n",
       "         verbose=False)"
      ]
     },
     "execution_count": 10,
     "metadata": {},
     "output_type": "execute_result"
    }
   ],
   "source": [
    "model.best_estimator_"
   ]
  },
  {
   "cell_type": "code",
   "execution_count": null,
   "metadata": {},
   "outputs": [],
   "source": []
  }
 ],
 "metadata": {
  "kernelspec": {
   "display_name": "Python 3",
   "language": "python",
   "name": "python3"
  },
  "language_info": {
   "codemirror_mode": {
    "name": "ipython",
    "version": 3
   },
   "file_extension": ".py",
   "mimetype": "text/x-python",
   "name": "python",
   "nbconvert_exporter": "python",
   "pygments_lexer": "ipython3",
   "version": "3.8.3"
  }
 },
 "nbformat": 4,
 "nbformat_minor": 4
}
