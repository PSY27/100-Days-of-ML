{
 "cells": [
  {
   "cell_type": "markdown",
   "metadata": {},
   "source": [
    "## IMPORT NECESSARY MODULES"
   ]
  },
  {
   "cell_type": "code",
   "execution_count": 1,
   "metadata": {},
   "outputs": [
    {
     "name": "stdout",
     "output_type": "stream",
     "text": [
      "Tensorflow version : 2.2.0\n",
      "[PhysicalDevice(name='/physical_device:GPU:0', device_type='GPU')]\n"
     ]
    }
   ],
   "source": [
    "import pandas as pd\n",
    "import numpy as np \n",
    "import matplotlib.pyplot as plt\n",
    "np.random.seed(0)\n",
    "plt.style.use('ggplot')\n",
    "%matplotlib inline\n",
    "import tensorflow as tf\n",
    "print('Tensorflow version :',tf.__version__)\n",
    "print(tf.config.list_physical_devices('GPU'))"
   ]
  },
  {
   "cell_type": "markdown",
   "metadata": {},
   "source": [
    "## LOAD AND EXPLORE THE NER DATASET"
   ]
  },
  {
   "cell_type": "code",
   "execution_count": 2,
   "metadata": {},
   "outputs": [
    {
     "data": {
      "text/html": [
       "<div>\n",
       "<style scoped>\n",
       "    .dataframe tbody tr th:only-of-type {\n",
       "        vertical-align: middle;\n",
       "    }\n",
       "\n",
       "    .dataframe tbody tr th {\n",
       "        vertical-align: top;\n",
       "    }\n",
       "\n",
       "    .dataframe thead th {\n",
       "        text-align: right;\n",
       "    }\n",
       "</style>\n",
       "<table border=\"1\" class=\"dataframe\">\n",
       "  <thead>\n",
       "    <tr style=\"text-align: right;\">\n",
       "      <th></th>\n",
       "      <th>Sentence #</th>\n",
       "      <th>Word</th>\n",
       "      <th>POS</th>\n",
       "      <th>Tag</th>\n",
       "    </tr>\n",
       "  </thead>\n",
       "  <tbody>\n",
       "    <tr>\n",
       "      <th>0</th>\n",
       "      <td>Sentence: 1</td>\n",
       "      <td>Thousands</td>\n",
       "      <td>NNS</td>\n",
       "      <td>O</td>\n",
       "    </tr>\n",
       "    <tr>\n",
       "      <th>1</th>\n",
       "      <td>Sentence: 1</td>\n",
       "      <td>of</td>\n",
       "      <td>IN</td>\n",
       "      <td>O</td>\n",
       "    </tr>\n",
       "    <tr>\n",
       "      <th>2</th>\n",
       "      <td>Sentence: 1</td>\n",
       "      <td>demonstrators</td>\n",
       "      <td>NNS</td>\n",
       "      <td>O</td>\n",
       "    </tr>\n",
       "    <tr>\n",
       "      <th>3</th>\n",
       "      <td>Sentence: 1</td>\n",
       "      <td>have</td>\n",
       "      <td>VBP</td>\n",
       "      <td>O</td>\n",
       "    </tr>\n",
       "    <tr>\n",
       "      <th>4</th>\n",
       "      <td>Sentence: 1</td>\n",
       "      <td>marched</td>\n",
       "      <td>VBN</td>\n",
       "      <td>O</td>\n",
       "    </tr>\n",
       "  </tbody>\n",
       "</table>\n",
       "</div>"
      ],
      "text/plain": [
       "    Sentence #           Word  POS Tag\n",
       "0  Sentence: 1      Thousands  NNS   O\n",
       "1  Sentence: 1             of   IN   O\n",
       "2  Sentence: 1  demonstrators  NNS   O\n",
       "3  Sentence: 1           have  VBP   O\n",
       "4  Sentence: 1        marched  VBN   O"
      ]
     },
     "execution_count": 2,
     "metadata": {},
     "output_type": "execute_result"
    }
   ],
   "source": [
    "data = pd.read_csv('ner_dataset.csv',encoding='latin1')\n",
    "data = data.fillna(method='ffill')\n",
    "data.head()"
   ]
  },
  {
   "cell_type": "code",
   "execution_count": 3,
   "metadata": {},
   "outputs": [
    {
     "name": "stdout",
     "output_type": "stream",
     "text": [
      "Unique words in corpus/data =  35178\n",
      "Unique tags in corpus/data =  17\n"
     ]
    }
   ],
   "source": [
    "print('Unique words in corpus/data = ',data['Word'].nunique())\n",
    "print('Unique tags in corpus/data = ',data['Tag'].nunique())"
   ]
  },
  {
   "cell_type": "code",
   "execution_count": 4,
   "metadata": {},
   "outputs": [
    {
     "data": {
      "text/plain": [
       "35179"
      ]
     },
     "execution_count": 4,
     "metadata": {},
     "output_type": "execute_result"
    }
   ],
   "source": [
    "words = list(set(data['Word'].values))\n",
    "words.append('ENDPAD')\n",
    "num_words = len(words)\n",
    "num_words"
   ]
  },
  {
   "cell_type": "code",
   "execution_count": 5,
   "metadata": {},
   "outputs": [
    {
     "data": {
      "text/plain": [
       "17"
      ]
     },
     "execution_count": 5,
     "metadata": {},
     "output_type": "execute_result"
    }
   ],
   "source": [
    "tags = list(set(data['Tag'].values))\n",
    "# tags.append('ENDPAD')\n",
    "num_tags = len(tags)\n",
    "num_tags"
   ]
  },
  {
   "cell_type": "code",
   "execution_count": 6,
   "metadata": {},
   "outputs": [
    {
     "data": {
      "text/plain": [
       "(35179, 17)"
      ]
     },
     "execution_count": 6,
     "metadata": {},
     "output_type": "execute_result"
    }
   ],
   "source": [
    "num_words,num_tags"
   ]
  },
  {
   "cell_type": "markdown",
   "metadata": {},
   "source": [
    "## RETRIEVING SENTENCES AND THEIR TAGS"
   ]
  },
  {
   "cell_type": "code",
   "execution_count": 7,
   "metadata": {},
   "outputs": [],
   "source": [
    "class get_sentence(object):\n",
    "    def __init__(self,data) :\n",
    "        self.n_sent = 1\n",
    "        self.data = data\n",
    "        agg_function = lambda x : [(w,p,t) for w,p,t in zip(x['Word'].values.tolist(),x['POS'].values.tolist(),x['Tag'].values.tolist())]\n",
    "        \n",
    "        self.grouped = self.data.groupby('Sentence #').apply(agg_function)\n",
    "        self.sentences = [s for s in self.grouped]"
   ]
  },
  {
   "cell_type": "code",
   "execution_count": 8,
   "metadata": {},
   "outputs": [],
   "source": [
    "getter = get_sentence(data)\n",
    "sentences = getter.sentences"
   ]
  },
  {
   "cell_type": "code",
   "execution_count": 9,
   "metadata": {},
   "outputs": [
    {
     "data": {
      "text/plain": [
       "[('Israeli', 'JJ', 'B-gpe'),\n",
       " ('officials', 'NNS', 'O'),\n",
       " ('say', 'VBP', 'O'),\n",
       " ('Prime', 'NNP', 'B-per'),\n",
       " ('Minister', 'NNP', 'I-per'),\n",
       " ('Ariel', 'NNP', 'I-per'),\n",
       " ('Sharon', 'NNP', 'I-per'),\n",
       " ('will', 'MD', 'O'),\n",
       " ('undergo', 'VB', 'O'),\n",
       " ('a', 'DT', 'O'),\n",
       " ('medical', 'JJ', 'O'),\n",
       " ('procedure', 'NN', 'O'),\n",
       " ('Thursday', 'NNP', 'B-tim'),\n",
       " ('to', 'TO', 'O'),\n",
       " ('close', 'VB', 'O'),\n",
       " ('a', 'DT', 'O'),\n",
       " ('tiny', 'JJ', 'O'),\n",
       " ('hole', 'NN', 'O'),\n",
       " ('in', 'IN', 'O'),\n",
       " ('his', 'PRP$', 'O'),\n",
       " ('heart', 'NN', 'O'),\n",
       " ('discovered', 'VBN', 'O'),\n",
       " ('during', 'IN', 'O'),\n",
       " ('treatment', 'NN', 'O'),\n",
       " ('for', 'IN', 'O'),\n",
       " ('a', 'DT', 'O'),\n",
       " ('minor', 'JJ', 'O'),\n",
       " ('stroke', 'NN', 'O'),\n",
       " ('suffered', 'VBN', 'O'),\n",
       " ('last', 'JJ', 'O'),\n",
       " ('month', 'NN', 'O'),\n",
       " ('.', '.', 'O')]"
      ]
     },
     "execution_count": 9,
     "metadata": {},
     "output_type": "execute_result"
    }
   ],
   "source": [
    "sentences[15]"
   ]
  },
  {
   "cell_type": "markdown",
   "metadata": {},
   "source": [
    "## DEFINE MAPPING BETWEEN SENTENCES AND TAGS"
   ]
  },
  {
   "cell_type": "code",
   "execution_count": 10,
   "metadata": {},
   "outputs": [],
   "source": [
    "word2idx = {w : i+1 for i,w in enumerate(words)}\n",
    "tag2idx = {t : i for i,t in enumerate(tags)}"
   ]
  },
  {
   "cell_type": "code",
   "execution_count": 11,
   "metadata": {},
   "outputs": [],
   "source": [
    "# word2idx"
   ]
  },
  {
   "cell_type": "markdown",
   "metadata": {},
   "source": [
    "## PADDING INPUT SENTENCES AND CREATING TEST/TRAIN SPLITS"
   ]
  },
  {
   "cell_type": "code",
   "execution_count": 12,
   "metadata": {},
   "outputs": [
    {
     "data": {
      "image/png": "[encoded data removed]",
      "text/plain": [
       "<Figure size 432x288 with 1 Axes>"
      ]
     },
     "metadata": {
      "needs_background": "light"
     },
     "output_type": "display_data"
    }
   ],
   "source": [
    "plt.hist([len(s) for s in sentences],bins=50)\n",
    "plt.show()"
   ]
  },
  {
   "cell_type": "code",
   "execution_count": 13,
   "metadata": {},
   "outputs": [],
   "source": [
    "from tensorflow.keras.preprocessing.sequence import pad_sequences\n",
    "from tensorflow.keras.utils import to_categorical\n",
    "\n",
    "max_length = 50\n",
    "\n",
    "X = [[word2idx[word[0]] for word in s] for s in sentences]\n",
    "X = pad_sequences(maxlen=max_length,sequences=X,padding='post',value=num_words-1)\n",
    "\n",
    "y = [[tag2idx[tag[2]] for tag in s] for s in sentences]\n",
    "y = pad_sequences(maxlen=max_length,sequences=y,padding='post',value=tag2idx['O'])\n"
   ]
  },
  {
   "cell_type": "code",
   "execution_count": 14,
   "metadata": {},
   "outputs": [],
   "source": [
    "y = [to_categorical(i,num_classes=num_tags) for i in y]"
   ]
  },
  {
   "cell_type": "code",
   "execution_count": 15,
   "metadata": {},
   "outputs": [],
   "source": [
    "from sklearn.model_selection import train_test_split\n"
   ]
  },
  {
   "cell_type": "code",
   "execution_count": 28,
   "metadata": {},
   "outputs": [
    {
     "name": "stdout",
     "output_type": "stream",
     "text": [
      "(43163, 50)\n"
     ]
    }
   ],
   "source": [
    "X_train,X_test,y_train,y_test = train_test_split(X,y,test_size=0.1,random_state=1)\n",
    "print(X_train.shape)"
   ]
  },
  {
   "cell_type": "markdown",
   "metadata": {},
   "source": [
    "## BUILDING AND COMPILING A BIDIRECTIONAL LSTM MODEL\n",
    "\n"
   ]
  },
  {
   "cell_type": "code",
   "execution_count": 17,
   "metadata": {},
   "outputs": [],
   "source": [
    "from tensorflow.keras import Model,Input\n",
    "from tensorflow.keras.layers import LSTM,Embedding,Dense\n",
    "from tensorflow.keras.layers import TimeDistributed,SpatialDropout1D,Bidirectional"
   ]
  },
  {
   "cell_type": "code",
   "execution_count": 18,
   "metadata": {},
   "outputs": [
    {
     "name": "stdout",
     "output_type": "stream",
     "text": [
      "WARNING:tensorflow:Layer lstm will not use cuDNN kernel since it doesn't meet the cuDNN kernel criteria. It will use generic GPU kernel as fallback when running on GPU\n",
      "WARNING:tensorflow:Layer lstm will not use cuDNN kernel since it doesn't meet the cuDNN kernel criteria. It will use generic GPU kernel as fallback when running on GPU\n",
      "WARNING:tensorflow:Layer lstm will not use cuDNN kernel since it doesn't meet the cuDNN kernel criteria. It will use generic GPU kernel as fallback when running on GPU\n"
     ]
    }
   ],
   "source": [
    "input_word = Input(shape=(max_length,))\n",
    "model = Embedding(input_dim = num_words,output_dim=max_length,input_length = max_length)(input_word)\n",
    "\n",
    "model = SpatialDropout1D(0.1)(model)\n",
    "model = Bidirectional(LSTM(units=100,return_sequences=True,recurrent_dropout=0.1))(model)"
   ]
  },
  {
   "cell_type": "code",
   "execution_count": 19,
   "metadata": {},
   "outputs": [],
   "source": [
    "out = TimeDistributed(Dense(num_tags,activation='softmax'))(model)"
   ]
  },
  {
   "cell_type": "code",
   "execution_count": 20,
   "metadata": {},
   "outputs": [],
   "source": [
    "model = Model(input_word,out)"
   ]
  },
  {
   "cell_type": "code",
   "execution_count": 21,
   "metadata": {},
   "outputs": [
    {
     "name": "stdout",
     "output_type": "stream",
     "text": [
      "Model: \"model\"\n",
      "_________________________________________________________________\n",
      "Layer (type)                 Output Shape              Param #   \n",
      "=================================================================\n",
      "input_1 (InputLayer)         [(None, 50)]              0         \n",
      "_________________________________________________________________\n",
      "embedding (Embedding)        (None, 50, 50)            1758950   \n",
      "_________________________________________________________________\n",
      "spatial_dropout1d (SpatialDr (None, 50, 50)            0         \n",
      "_________________________________________________________________\n",
      "bidirectional (Bidirectional (None, 50, 200)           120800    \n",
      "_________________________________________________________________\n",
      "time_distributed (TimeDistri (None, 50, 17)            3417      \n",
      "=================================================================\n",
      "Total params: 1,883,167\n",
      "Trainable params: 1,883,167\n",
      "Non-trainable params: 0\n",
      "_________________________________________________________________\n"
     ]
    }
   ],
   "source": [
    "model.summary()"
   ]
  },
  {
   "cell_type": "code",
   "execution_count": 22,
   "metadata": {},
   "outputs": [],
   "source": [
    "model.compile(loss='categorical_crossentropy',optimizer='adam',metrics=['accuracy'])"
   ]
  },
  {
   "cell_type": "markdown",
   "metadata": {},
   "source": [
    "## TRAIN THE MODEL"
   ]
  },
  {
   "cell_type": "code",
   "execution_count": 23,
   "metadata": {},
   "outputs": [],
   "source": [
    "from tensorflow.keras.callbacks import ModelCheckpoint,EarlyStopping\n",
    "from livelossplot.tf_keras import PlotLossesCallback"
   ]
  },
  {
   "cell_type": "code",
   "execution_count": 30,
   "metadata": {},
   "outputs": [],
   "source": [
    "early_stopping = EarlyStopping(monitor='val_accuracy',patience=1,verbose=0,mode='max',restore_best_weights=False)\n",
    "callbacks = [PlotLossesCallback(),early_stopping]\n",
    "\n"
   ]
  },
  {
   "cell_type": "code",
   "execution_count": 32,
   "metadata": {},
   "outputs": [
    {
     "name": "stdout",
     "output_type": "stream",
     "text": [
      "Epoch 1/3\n",
      "1080/1080 [==============================] - 168s 156ms/step - loss: 0.0602 - accuracy: 0.9827 - val_loss: 0.0519 - val_accuracy: 0.9844\n",
      "Epoch 2/3\n",
      "1080/1080 [==============================] - 167s 155ms/step - loss: 0.0403 - accuracy: 0.9879 - val_loss: 0.0488 - val_accuracy: 0.9853\n",
      "Epoch 3/3\n",
      "1080/1080 [==============================] - 167s 154ms/step - loss: 0.0326 - accuracy: 0.9898 - val_loss: 0.0478 - val_accuracy: 0.9855\n"
     ]
    }
   ],
   "source": [
    "history = model.fit(X_train,np.array(y_train),validation_split=0.2,batch_size=32,epochs=3,verbose=1,callbacks=callbacks)"
   ]
  },
  {
   "cell_type": "code",
   "execution_count": 34,
   "metadata": {},
   "outputs": [
    {
     "name": "stdout",
     "output_type": "stream",
     "text": [
      "150/150 [==============================] - 3s 18ms/step - loss: 0.0487 - accuracy: 0.9854\n"
     ]
    },
    {
     "data": {
      "text/plain": [
       "[0.04865507036447525, 0.9853670001029968]"
      ]
     },
     "execution_count": 34,
     "metadata": {},
     "output_type": "execute_result"
    }
   ],
   "source": [
    "model.evaluate(X_test,np.array(y_test))"
   ]
  },
  {
   "cell_type": "code",
   "execution_count": 88,
   "metadata": {},
   "outputs": [
    {
     "name": "stdout",
     "output_type": "stream",
     "text": [
      "Word           True \t Predicted Values\n",
      "\n",
      "-----------------------------------------\n",
      "South          O    \t I-geo\n",
      "\n",
      "Korean         B-gpe\t B-gpe\n",
      "\n",
      "officials      O    \t O\n",
      "\n",
      "have           O    \t O\n",
      "\n",
      "not            O    \t O\n",
      "\n",
      "confirmed      O    \t O\n",
      "\n",
      "the            O    \t O\n",
      "\n",
      "report         O    \t O\n",
      "\n",
      ".              O    \t O\n",
      "\n",
      "purchase       O    \t O\n",
      "\n",
      "purchase       O    \t O\n",
      "\n",
      "purchase       O    \t O\n",
      "\n",
      "purchase       O    \t O\n",
      "\n",
      "purchase       O    \t O\n",
      "\n",
      "purchase       O    \t O\n",
      "\n",
      "purchase       O    \t O\n",
      "\n",
      "purchase       O    \t O\n",
      "\n",
      "purchase       O    \t O\n",
      "\n",
      "purchase       O    \t O\n",
      "\n",
      "purchase       O    \t O\n",
      "\n",
      "purchase       O    \t O\n",
      "\n",
      "purchase       O    \t O\n",
      "\n",
      "purchase       O    \t O\n",
      "\n",
      "purchase       O    \t O\n",
      "\n",
      "purchase       O    \t O\n",
      "\n",
      "purchase       O    \t O\n",
      "\n",
      "purchase       O    \t O\n",
      "\n",
      "purchase       O    \t O\n",
      "\n",
      "purchase       O    \t O\n",
      "\n",
      "purchase       O    \t O\n",
      "\n",
      "purchase       O    \t O\n",
      "\n",
      "purchase       O    \t O\n",
      "\n",
      "purchase       O    \t O\n",
      "\n",
      "purchase       O    \t O\n",
      "\n",
      "purchase       O    \t O\n",
      "\n",
      "purchase       O    \t O\n",
      "\n",
      "purchase       O    \t O\n",
      "\n",
      "purchase       O    \t O\n",
      "\n",
      "purchase       O    \t O\n",
      "\n",
      "purchase       O    \t O\n",
      "\n",
      "purchase       O    \t O\n",
      "\n",
      "purchase       O    \t O\n",
      "\n",
      "purchase       O    \t O\n",
      "\n",
      "purchase       O    \t O\n",
      "\n",
      "purchase       O    \t O\n",
      "\n",
      "purchase       O    \t O\n",
      "\n",
      "purchase       O    \t O\n",
      "\n",
      "purchase       O    \t O\n",
      "\n",
      "purchase       O    \t O\n",
      "\n",
      "purchase       O    \t O\n",
      "\n"
     ]
    }
   ],
   "source": [
    "i = np.random.randint(0,X_test.shape[0])\n",
    "# print(len(i))\n",
    "p = model.predict(np.array(X_test[i]))\n",
    "p = np.argmax(p,axis=-1)\n",
    "y_true = np.argmax(np.array(y_test),axis=-1)[i]\n",
    "                   \n",
    "print('{:15}{:5}\\t {}\\n'.format('Word','True','Predicted Values'))\n",
    "print('-'*41)\n",
    "for w,true,predicted in zip(X_test[i],y_true,p):\n",
    "#     print(w)\n",
    "    print('{:15}{:5}\\t {}\\n'.format(words[w-1],tags[true],tags[predicted[0]]))"
   ]
  },
  {
   "cell_type": "code",
   "execution_count": null,
   "metadata": {},
   "outputs": [],
   "source": []
  },
  {
   "cell_type": "code",
   "execution_count": null,
   "metadata": {},
   "outputs": [],
   "source": []
  }
 ],
 "metadata": {
  "kernelspec": {
   "display_name": "Python 3",
   "language": "python",
   "name": "python3"
  },
  "language_info": {
   "codemirror_mode": {
    "name": "ipython",
    "version": 3
   },
   "file_extension": ".py",
   "mimetype": "text/x-python",
   "name": "python",
   "nbconvert_exporter": "python",
   "pygments_lexer": "ipython3",
   "version": "3.6.9"
  }
 },
 "nbformat": 4,
 "nbformat_minor": 4
}
